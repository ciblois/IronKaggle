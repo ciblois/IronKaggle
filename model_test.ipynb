{
 "metadata": {
  "language_info": {
   "codemirror_mode": {
    "name": "ipython",
    "version": 3
   },
   "file_extension": ".py",
   "mimetype": "text/x-python",
   "name": "python",
   "nbconvert_exporter": "python",
   "pygments_lexer": "ipython3",
   "version": "3.8.3-final"
  },
  "orig_nbformat": 2,
  "kernelspec": {
   "name": "python3",
   "display_name": "Python 3"
  }
 },
 "nbformat": 4,
 "nbformat_minor": 2,
 "cells": [
  {
   "cell_type": "code",
   "execution_count": 2,
   "metadata": {},
   "outputs": [],
   "source": [
    "import numpy as np\n",
    "import pandas as pd\n",
    "import re\n",
    "import seaborn as sns\n",
    "import matplotlib.pyplot as plt\n",
    "import scipy.stats as st\n",
    "import pickle"
   ]
  },
  {
   "cell_type": "code",
   "execution_count": 3,
   "metadata": {},
   "outputs": [],
   "source": [
    "model = pickle.load(open('model.pkl', 'rb')) # decision tree regression\n",
    "X_test = pd.read_pickle('xtest.p')\n",
    "y_test = pd.read_pickle('ytest.p')"
   ]
  },
  {
   "source": [
    "## Decision tree regression\n"
   ],
   "cell_type": "markdown",
   "metadata": {}
  },
  {
   "cell_type": "code",
   "execution_count": 12,
   "metadata": {},
   "outputs": [],
   "source": [
    "y_pred = model.predict(X_test)"
   ]
  },
  {
   "cell_type": "code",
   "execution_count": 10,
   "metadata": {},
   "outputs": [
    {
     "output_type": "stream",
     "name": "stdout",
     "text": [
      "{'fit_time': array([2.09597015, 1.96572828, 2.32379675, 2.30084658, 2.001647  ]), 'score_time': array([0.03393555, 0.03390956, 0.04187489, 0.03690195, 0.03590369]), 'test_score': array([0.95506043, 0.95343037, 0.9554967 , 0.95660969, 0.95661921])}\n"
     ]
    }
   ],
   "source": [
    "# cross validation\n",
    "\n",
    "from sklearn.model_selection import cross_validate\n",
    "\n",
    "print(cross_validate(model,X_test, y_test, cv=5)) # checking for overfitting"
   ]
  },
  {
   "cell_type": "code",
   "execution_count": 14,
   "metadata": {},
   "outputs": [
    {
     "output_type": "stream",
     "name": "stdout",
     "text": [
      "test data accuracy was  0.9582977700458698\nR-squared 0.9582977700458698\n"
     ]
    }
   ],
   "source": [
    "# checking the R-squared\n",
    "\n",
    "from sklearn import metrics\n",
    "from sklearn.metrics import r2_score\n",
    "\n",
    "print(\"test data accuracy was \",model.score(X_test,y_test))\n",
    "print('R-squared',r2_score(y_test, y_pred))"
   ]
  },
  {
   "cell_type": "code",
   "execution_count": null,
   "metadata": {},
   "outputs": [],
   "source": [
    "# flask\n",
    "# https://www.w3schools.com/howto/tryit.asp?filename=tryhow_html_file_upload_button"
   ]
  }
 ]
}