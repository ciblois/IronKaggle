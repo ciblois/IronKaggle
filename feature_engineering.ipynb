{
 "metadata": {
  "language_info": {
   "codemirror_mode": {
    "name": "ipython",
    "version": 3
   },
   "file_extension": ".py",
   "mimetype": "text/x-python",
   "name": "python",
   "nbconvert_exporter": "python",
   "pygments_lexer": "ipython3",
   "version": "3.8.3-final"
  },
  "orig_nbformat": 2,
  "kernelspec": {
   "name": "python3",
   "display_name": "Python 3"
  }
 },
 "nbformat": 4,
 "nbformat_minor": 2,
 "cells": [
  {
   "cell_type": "code",
   "execution_count": 161,
   "metadata": {},
   "outputs": [],
   "source": [
    "import numpy as np\n",
    "import pandas as pd\n",
    "import re\n",
    "import seaborn as sns\n",
    "import matplotlib.pyplot as plt\n",
    "import scipy.stats as st\n",
    "import pickle"
   ]
  },
  {
   "source": [
    "The objective is to predict the revenue of shops. Each row of our data contains the following information:\n",
    "\n",
    "* shop_ID : Shop's unique identifier.\n",
    "* day_of_the_week : Encoded from 0 to 6.\n",
    "* date : day, month and year of the data point.\n",
    "* number of customers : Quantity of customers that showed up that day.\n",
    "* open : Binary variable equal to 0 if shop closed that day and 1 if shop open.\n",
    "* promotion : Binary variable equal to 0 if shop had no promotions that day and 1 if it did.\n",
    "* state_holiday : Encoded 0, a, b, c indicating if there was a state holiday at all (0 if not), and otherwise, the number indicates which state holiday it was.\n",
    "* school_holiday : Binary variable equal to 0 if there was a school holiday that day and 1 if not."
   ],
   "cell_type": "markdown",
   "metadata": {}
  },
  {
   "cell_type": "code",
   "execution_count": 162,
   "metadata": {},
   "outputs": [],
   "source": [
    "sales = pd.read_csv('sales.csv')"
   ]
  },
  {
   "cell_type": "code",
   "execution_count": 163,
   "metadata": {},
   "outputs": [
    {
     "output_type": "execute_result",
     "data": {
      "text/plain": [
       "(640840, 10)"
      ]
     },
     "metadata": {},
     "execution_count": 163
    }
   ],
   "source": [
    "sales.shape"
   ]
  },
  {
   "cell_type": "code",
   "execution_count": 164,
   "metadata": {},
   "outputs": [
    {
     "output_type": "execute_result",
     "data": {
      "text/plain": [
       "   Unnamed: 0  store_ID  day_of_week        date  nb_customers_on_day  open  \\\n",
       "0      425390       366            4  2013-04-18                  517     1   \n",
       "1      291687       394            6  2015-04-11                  694     1   \n",
       "2      411278       807            4  2013-08-29                  970     1   \n",
       "3      664714       802            2  2013-05-28                  473     1   \n",
       "4      540835       726            4  2013-10-10                 1068     1   \n",
       "\n",
       "   promotion state_holiday  school_holiday  sales  \n",
       "0          0             0               0   4422  \n",
       "1          0             0               0   8297  \n",
       "2          1             0               0   9729  \n",
       "3          1             0               0   6513  \n",
       "4          1             0               0  10882  "
      ],
      "text/html": "<div>\n<style scoped>\n    .dataframe tbody tr th:only-of-type {\n        vertical-align: middle;\n    }\n\n    .dataframe tbody tr th {\n        vertical-align: top;\n    }\n\n    .dataframe thead th {\n        text-align: right;\n    }\n</style>\n<table border=\"1\" class=\"dataframe\">\n  <thead>\n    <tr style=\"text-align: right;\">\n      <th></th>\n      <th>Unnamed: 0</th>\n      <th>store_ID</th>\n      <th>day_of_week</th>\n      <th>date</th>\n      <th>nb_customers_on_day</th>\n      <th>open</th>\n      <th>promotion</th>\n      <th>state_holiday</th>\n      <th>school_holiday</th>\n      <th>sales</th>\n    </tr>\n  </thead>\n  <tbody>\n    <tr>\n      <th>0</th>\n      <td>425390</td>\n      <td>366</td>\n      <td>4</td>\n      <td>2013-04-18</td>\n      <td>517</td>\n      <td>1</td>\n      <td>0</td>\n      <td>0</td>\n      <td>0</td>\n      <td>4422</td>\n    </tr>\n    <tr>\n      <th>1</th>\n      <td>291687</td>\n      <td>394</td>\n      <td>6</td>\n      <td>2015-04-11</td>\n      <td>694</td>\n      <td>1</td>\n      <td>0</td>\n      <td>0</td>\n      <td>0</td>\n      <td>8297</td>\n    </tr>\n    <tr>\n      <th>2</th>\n      <td>411278</td>\n      <td>807</td>\n      <td>4</td>\n      <td>2013-08-29</td>\n      <td>970</td>\n      <td>1</td>\n      <td>1</td>\n      <td>0</td>\n      <td>0</td>\n      <td>9729</td>\n    </tr>\n    <tr>\n      <th>3</th>\n      <td>664714</td>\n      <td>802</td>\n      <td>2</td>\n      <td>2013-05-28</td>\n      <td>473</td>\n      <td>1</td>\n      <td>1</td>\n      <td>0</td>\n      <td>0</td>\n      <td>6513</td>\n    </tr>\n    <tr>\n      <th>4</th>\n      <td>540835</td>\n      <td>726</td>\n      <td>4</td>\n      <td>2013-10-10</td>\n      <td>1068</td>\n      <td>1</td>\n      <td>1</td>\n      <td>0</td>\n      <td>0</td>\n      <td>10882</td>\n    </tr>\n  </tbody>\n</table>\n</div>"
     },
     "metadata": {},
     "execution_count": 164
    }
   ],
   "source": [
    "sales.head()"
   ]
  },
  {
   "source": [
    "## we have 10 columns, but the last one `sales` is our target. So we have to divide the dataset into features and labels. The first column `Unnamed: 0` is like the ID for each row."
   ],
   "cell_type": "markdown",
   "metadata": {}
  },
  {
   "cell_type": "code",
   "execution_count": 165,
   "metadata": {},
   "outputs": [
    {
     "output_type": "execute_result",
     "data": {
      "text/plain": [
       "Unnamed: 0              int64\n",
       "store_ID                int64\n",
       "day_of_week             int64\n",
       "date                   object\n",
       "nb_customers_on_day     int64\n",
       "open                    int64\n",
       "promotion               int64\n",
       "state_holiday          object\n",
       "school_holiday          int64\n",
       "sales                   int64\n",
       "dtype: object"
      ]
     },
     "metadata": {},
     "execution_count": 165
    }
   ],
   "source": [
    "sales.dtypes"
   ]
  },
  {
   "cell_type": "code",
   "execution_count": 166,
   "metadata": {},
   "outputs": [],
   "source": [
    "features = sales.drop(columns=['sales']).copy()\n",
    "labels = sales[['sales']]"
   ]
  },
  {
   "cell_type": "code",
   "execution_count": 167,
   "metadata": {},
   "outputs": [
    {
     "output_type": "execute_result",
     "data": {
      "text/plain": [
       "Unnamed: 0              int64\n",
       "store_ID                int64\n",
       "day_of_week             int64\n",
       "date                   object\n",
       "nb_customers_on_day     int64\n",
       "open                    int64\n",
       "promotion               int64\n",
       "state_holiday          object\n",
       "school_holiday          int64\n",
       "dtype: object"
      ]
     },
     "metadata": {},
     "execution_count": 167
    }
   ],
   "source": [
    "features.dtypes"
   ]
  },
  {
   "cell_type": "code",
   "execution_count": 168,
   "metadata": {},
   "outputs": [
    {
     "output_type": "execute_result",
     "data": {
      "text/plain": [
       "sales    int64\n",
       "dtype: object"
      ]
     },
     "metadata": {},
     "execution_count": 168
    }
   ],
   "source": [
    "labels.dtypes"
   ]
  },
  {
   "source": [
    "## For sales it makes more sense to have values like float"
   ],
   "cell_type": "markdown",
   "metadata": {}
  },
  {
   "cell_type": "code",
   "execution_count": 169,
   "metadata": {},
   "outputs": [
    {
     "output_type": "execute_result",
     "data": {
      "text/plain": [
       "sales    float64\n",
       "dtype: object"
      ]
     },
     "metadata": {},
     "execution_count": 169
    }
   ],
   "source": [
    "labels = labels.astype('float')\n",
    "labels.dtypes"
   ]
  },
  {
   "source": [
    "## `date` columns should be split into Year - Month - Day"
   ],
   "cell_type": "markdown",
   "metadata": {}
  },
  {
   "cell_type": "code",
   "execution_count": 170,
   "metadata": {},
   "outputs": [
    {
     "output_type": "execute_result",
     "data": {
      "text/plain": [
       "   Unnamed: 0  store_ID  day_of_week  nb_customers_on_day  open  promotion  \\\n",
       "0      425390       366            4                  517     1          0   \n",
       "1      291687       394            6                  694     1          0   \n",
       "2      411278       807            4                  970     1          1   \n",
       "3      664714       802            2                  473     1          1   \n",
       "4      540835       726            4                 1068     1          1   \n",
       "\n",
       "  state_holiday  school_holiday  Year  Month  Day  \n",
       "0             0               0  2013      4   18  \n",
       "1             0               0  2015      4   11  \n",
       "2             0               0  2013      8   29  \n",
       "3             0               0  2013      5   28  \n",
       "4             0               0  2013     10   10  "
      ],
      "text/html": "<div>\n<style scoped>\n    .dataframe tbody tr th:only-of-type {\n        vertical-align: middle;\n    }\n\n    .dataframe tbody tr th {\n        vertical-align: top;\n    }\n\n    .dataframe thead th {\n        text-align: right;\n    }\n</style>\n<table border=\"1\" class=\"dataframe\">\n  <thead>\n    <tr style=\"text-align: right;\">\n      <th></th>\n      <th>Unnamed: 0</th>\n      <th>store_ID</th>\n      <th>day_of_week</th>\n      <th>nb_customers_on_day</th>\n      <th>open</th>\n      <th>promotion</th>\n      <th>state_holiday</th>\n      <th>school_holiday</th>\n      <th>Year</th>\n      <th>Month</th>\n      <th>Day</th>\n    </tr>\n  </thead>\n  <tbody>\n    <tr>\n      <th>0</th>\n      <td>425390</td>\n      <td>366</td>\n      <td>4</td>\n      <td>517</td>\n      <td>1</td>\n      <td>0</td>\n      <td>0</td>\n      <td>0</td>\n      <td>2013</td>\n      <td>4</td>\n      <td>18</td>\n    </tr>\n    <tr>\n      <th>1</th>\n      <td>291687</td>\n      <td>394</td>\n      <td>6</td>\n      <td>694</td>\n      <td>1</td>\n      <td>0</td>\n      <td>0</td>\n      <td>0</td>\n      <td>2015</td>\n      <td>4</td>\n      <td>11</td>\n    </tr>\n    <tr>\n      <th>2</th>\n      <td>411278</td>\n      <td>807</td>\n      <td>4</td>\n      <td>970</td>\n      <td>1</td>\n      <td>1</td>\n      <td>0</td>\n      <td>0</td>\n      <td>2013</td>\n      <td>8</td>\n      <td>29</td>\n    </tr>\n    <tr>\n      <th>3</th>\n      <td>664714</td>\n      <td>802</td>\n      <td>2</td>\n      <td>473</td>\n      <td>1</td>\n      <td>1</td>\n      <td>0</td>\n      <td>0</td>\n      <td>2013</td>\n      <td>5</td>\n      <td>28</td>\n    </tr>\n    <tr>\n      <th>4</th>\n      <td>540835</td>\n      <td>726</td>\n      <td>4</td>\n      <td>1068</td>\n      <td>1</td>\n      <td>1</td>\n      <td>0</td>\n      <td>0</td>\n      <td>2013</td>\n      <td>10</td>\n      <td>10</td>\n    </tr>\n  </tbody>\n</table>\n</div>"
     },
     "metadata": {},
     "execution_count": 170
    }
   ],
   "source": [
    "date = ['Year','Month','Day']\n",
    "for days in date:\n",
    "    dd = features['date'].apply(lambda x: list(x.split('-')))\n",
    "    index = date.index(str(days))\n",
    "    features[str(days)] = dd.apply(lambda x: x[index])\n",
    "    features[str(days)] = features[str(days)].astype('int')\n",
    "features.drop(columns=['date'],inplace=True)\n",
    "features.head()"
   ]
  },
  {
   "source": [
    "### Now let's look `state_holiday` column\n",
    "\n",
    "`state_holiday`: Encoded 0, a, b, c indicating if there was a state holiday at all (0 if not), and otherwise, the number indicates which state holiday it was\n",
    "\n",
    "Let's transform this into a binnary type. we just want to know if was holiday or not."
   ],
   "cell_type": "markdown",
   "metadata": {}
  },
  {
   "cell_type": "code",
   "execution_count": 144,
   "metadata": {},
   "outputs": [
    {
     "output_type": "execute_result",
     "data": {
      "text/plain": [
       "array(['0', 'a', 'c', 'b'], dtype=object)"
      ]
     },
     "metadata": {},
     "execution_count": 144
    }
   ],
   "source": [
    "features['state_holiday'].unique()"
   ]
  },
  {
   "cell_type": "code",
   "execution_count": 171,
   "metadata": {},
   "outputs": [],
   "source": [
    "features['state_holiday'] = features['state_holiday'].apply(lambda x: 0 if x==0 else 1)"
   ]
  },
  {
   "source": [
    "## Checking the types of columns"
   ],
   "cell_type": "markdown",
   "metadata": {}
  },
  {
   "cell_type": "code",
   "execution_count": 146,
   "metadata": {},
   "outputs": [
    {
     "output_type": "execute_result",
     "data": {
      "text/plain": [
       "Unnamed: 0              int64\n",
       "store_ID                int64\n",
       "day_of_week             int64\n",
       "nb_customers_on_day     int64\n",
       "open                    int64\n",
       "promotion               int64\n",
       "state_holiday           int64\n",
       "school_holiday          int64\n",
       "Year                   object\n",
       "Month                  object\n",
       "Day                    object\n",
       "dtype: object"
      ]
     },
     "metadata": {},
     "execution_count": 146
    }
   ],
   "source": [
    "features.dtypes"
   ]
  },
  {
   "source": [
    "## Missing values"
   ],
   "cell_type": "markdown",
   "metadata": {}
  },
  {
   "cell_type": "code",
   "execution_count": 147,
   "metadata": {},
   "outputs": [
    {
     "output_type": "execute_result",
     "data": {
      "text/plain": [
       "Unnamed: 0             0\n",
       "store_ID               0\n",
       "day_of_week            0\n",
       "nb_customers_on_day    0\n",
       "open                   0\n",
       "promotion              0\n",
       "state_holiday          0\n",
       "school_holiday         0\n",
       "Year                   0\n",
       "Month                  0\n",
       "Day                    0\n",
       "dtype: int64"
      ]
     },
     "metadata": {},
     "execution_count": 147
    }
   ],
   "source": [
    "features.isnull().sum()"
   ]
  },
  {
   "cell_type": "code",
   "execution_count": 148,
   "metadata": {},
   "outputs": [
    {
     "output_type": "execute_result",
     "data": {
      "text/plain": [
       "Unnamed: 0             0\n",
       "store_ID               0\n",
       "day_of_week            0\n",
       "nb_customers_on_day    0\n",
       "open                   0\n",
       "promotion              0\n",
       "state_holiday          0\n",
       "school_holiday         0\n",
       "Year                   0\n",
       "Month                  0\n",
       "Day                    0\n",
       "dtype: int64"
      ]
     },
     "metadata": {},
     "execution_count": 148
    }
   ],
   "source": [
    "features.isna().sum()"
   ]
  },
  {
   "source": [
    "### we don't have any missing values, so we can continue\n",
    "\n",
    "## Let's check if the columns in this dataset are strongly correlated."
   ],
   "cell_type": "markdown",
   "metadata": {}
  },
  {
   "cell_type": "code",
   "execution_count": 149,
   "metadata": {},
   "outputs": [
    {
     "output_type": "display_data",
     "data": {
      "text/plain": "<Figure size 720x576 with 2 Axes>",
      "image/svg+xml": "<?xml version=\"1.0\" encoding=\"utf-8\" standalone=\"no\"?>\r\n<!DOCTYPE svg PUBLIC \"-//W3C//DTD SVG 1.1//EN\"\r\n  \"http://www.w3.org/Graphics/SVG/1.1/DTD/svg11.dtd\">\r\n<!-- Created with matplotlib (https://matplotlib.org/) -->\r\n<svg height=\"570.915156pt\" version=\"1.1\" viewBox=\"0 0 639.663063 570.915156\" width=\"639.663063pt\" xmlns=\"http://www.w3.org/2000/svg\" xmlns:xlink=\"http://www.w3.org/1999/xlink\">\r\n <defs>\r\n  <style type=\"text/css\">\r\n*{stroke-linecap:butt;stroke-linejoin:round;}\r\n  </style>\r\n </defs>\r\n <g id=\"figure_1\">\r\n  <g id=\"patch_1\">\r\n   <path d=\"M -0 570.915156 \r\nL 639.663063 570.915156 \r\nL 639.663063 0 \r\nL -0 0 \r\nz\r\n\" style=\"fill:#ffffff;\"/>\r\n  </g>\r\n  <g id=\"axes_1\">\r\n   <g id=\"patch_2\">\r\n    <path d=\"M 125.035938 445.879219 \r\nL 559.915938 445.879219 \r\nL 559.915938 10.999219 \r\nL 125.035938 10.999219 \r\nz\r\n\" style=\"fill:#ffffff;\"/>\r\n   </g>\r\n   <g id=\"matplotlib.axis_1\">\r\n    <g id=\"xtick_1\">\r\n     <g id=\"text_1\">\r\n      <!-- Unnamed: 0 -->\r\n      <defs>\r\n       <path d=\"M 8.6875 72.90625 \r\nL 18.609375 72.90625 \r\nL 18.609375 28.609375 \r\nQ 18.609375 16.890625 22.84375 11.734375 \r\nQ 27.09375 6.59375 36.625 6.59375 \r\nQ 46.09375 6.59375 50.34375 11.734375 \r\nQ 54.59375 16.890625 54.59375 28.609375 \r\nL 54.59375 72.90625 \r\nL 64.5 72.90625 \r\nL 64.5 27.390625 \r\nQ 64.5 13.140625 57.4375 5.859375 \r\nQ 50.390625 -1.421875 36.625 -1.421875 \r\nQ 22.796875 -1.421875 15.734375 5.859375 \r\nQ 8.6875 13.140625 8.6875 27.390625 \r\nz\r\n\" id=\"DejaVuSans-85\"/>\r\n       <path d=\"M 54.890625 33.015625 \r\nL 54.890625 0 \r\nL 45.90625 0 \r\nL 45.90625 32.71875 \r\nQ 45.90625 40.484375 42.875 44.328125 \r\nQ 39.84375 48.1875 33.796875 48.1875 \r\nQ 26.515625 48.1875 22.3125 43.546875 \r\nQ 18.109375 38.921875 18.109375 30.90625 \r\nL 18.109375 0 \r\nL 9.078125 0 \r\nL 9.078125 54.6875 \r\nL 18.109375 54.6875 \r\nL 18.109375 46.1875 \r\nQ 21.34375 51.125 25.703125 53.5625 \r\nQ 30.078125 56 35.796875 56 \r\nQ 45.21875 56 50.046875 50.171875 \r\nQ 54.890625 44.34375 54.890625 33.015625 \r\nz\r\n\" id=\"DejaVuSans-110\"/>\r\n       <path d=\"M 34.28125 27.484375 \r\nQ 23.390625 27.484375 19.1875 25 \r\nQ 14.984375 22.515625 14.984375 16.5 \r\nQ 14.984375 11.71875 18.140625 8.90625 \r\nQ 21.296875 6.109375 26.703125 6.109375 \r\nQ 34.1875 6.109375 38.703125 11.40625 \r\nQ 43.21875 16.703125 43.21875 25.484375 \r\nL 43.21875 27.484375 \r\nz\r\nM 52.203125 31.203125 \r\nL 52.203125 0 \r\nL 43.21875 0 \r\nL 43.21875 8.296875 \r\nQ 40.140625 3.328125 35.546875 0.953125 \r\nQ 30.953125 -1.421875 24.3125 -1.421875 \r\nQ 15.921875 -1.421875 10.953125 3.296875 \r\nQ 6 8.015625 6 15.921875 \r\nQ 6 25.140625 12.171875 29.828125 \r\nQ 18.359375 34.515625 30.609375 34.515625 \r\nL 43.21875 34.515625 \r\nL 43.21875 35.40625 \r\nQ 43.21875 41.609375 39.140625 45 \r\nQ 35.0625 48.390625 27.6875 48.390625 \r\nQ 23 48.390625 18.546875 47.265625 \r\nQ 14.109375 46.140625 10.015625 43.890625 \r\nL 10.015625 52.203125 \r\nQ 14.9375 54.109375 19.578125 55.046875 \r\nQ 24.21875 56 28.609375 56 \r\nQ 40.484375 56 46.34375 49.84375 \r\nQ 52.203125 43.703125 52.203125 31.203125 \r\nz\r\n\" id=\"DejaVuSans-97\"/>\r\n       <path d=\"M 52 44.1875 \r\nQ 55.375 50.25 60.0625 53.125 \r\nQ 64.75 56 71.09375 56 \r\nQ 79.640625 56 84.28125 50.015625 \r\nQ 88.921875 44.046875 88.921875 33.015625 \r\nL 88.921875 0 \r\nL 79.890625 0 \r\nL 79.890625 32.71875 \r\nQ 79.890625 40.578125 77.09375 44.375 \r\nQ 74.3125 48.1875 68.609375 48.1875 \r\nQ 61.625 48.1875 57.5625 43.546875 \r\nQ 53.515625 38.921875 53.515625 30.90625 \r\nL 53.515625 0 \r\nL 44.484375 0 \r\nL 44.484375 32.71875 \r\nQ 44.484375 40.625 41.703125 44.40625 \r\nQ 38.921875 48.1875 33.109375 48.1875 \r\nQ 26.21875 48.1875 22.15625 43.53125 \r\nQ 18.109375 38.875 18.109375 30.90625 \r\nL 18.109375 0 \r\nL 9.078125 0 \r\nL 9.078125 54.6875 \r\nL 18.109375 54.6875 \r\nL 18.109375 46.1875 \r\nQ 21.1875 51.21875 25.484375 53.609375 \r\nQ 29.78125 56 35.6875 56 \r\nQ 41.65625 56 45.828125 52.96875 \r\nQ 50 49.953125 52 44.1875 \r\nz\r\n\" id=\"DejaVuSans-109\"/>\r\n       <path d=\"M 56.203125 29.59375 \r\nL 56.203125 25.203125 \r\nL 14.890625 25.203125 \r\nQ 15.484375 15.921875 20.484375 11.0625 \r\nQ 25.484375 6.203125 34.421875 6.203125 \r\nQ 39.59375 6.203125 44.453125 7.46875 \r\nQ 49.3125 8.734375 54.109375 11.28125 \r\nL 54.109375 2.78125 \r\nQ 49.265625 0.734375 44.1875 -0.34375 \r\nQ 39.109375 -1.421875 33.890625 -1.421875 \r\nQ 20.796875 -1.421875 13.15625 6.1875 \r\nQ 5.515625 13.8125 5.515625 26.8125 \r\nQ 5.515625 40.234375 12.765625 48.109375 \r\nQ 20.015625 56 32.328125 56 \r\nQ 43.359375 56 49.78125 48.890625 \r\nQ 56.203125 41.796875 56.203125 29.59375 \r\nz\r\nM 47.21875 32.234375 \r\nQ 47.125 39.59375 43.09375 43.984375 \r\nQ 39.0625 48.390625 32.421875 48.390625 \r\nQ 24.90625 48.390625 20.390625 44.140625 \r\nQ 15.875 39.890625 15.1875 32.171875 \r\nz\r\n\" id=\"DejaVuSans-101\"/>\r\n       <path d=\"M 45.40625 46.390625 \r\nL 45.40625 75.984375 \r\nL 54.390625 75.984375 \r\nL 54.390625 0 \r\nL 45.40625 0 \r\nL 45.40625 8.203125 \r\nQ 42.578125 3.328125 38.25 0.953125 \r\nQ 33.9375 -1.421875 27.875 -1.421875 \r\nQ 17.96875 -1.421875 11.734375 6.484375 \r\nQ 5.515625 14.40625 5.515625 27.296875 \r\nQ 5.515625 40.1875 11.734375 48.09375 \r\nQ 17.96875 56 27.875 56 \r\nQ 33.9375 56 38.25 53.625 \r\nQ 42.578125 51.265625 45.40625 46.390625 \r\nz\r\nM 14.796875 27.296875 \r\nQ 14.796875 17.390625 18.875 11.75 \r\nQ 22.953125 6.109375 30.078125 6.109375 \r\nQ 37.203125 6.109375 41.296875 11.75 \r\nQ 45.40625 17.390625 45.40625 27.296875 \r\nQ 45.40625 37.203125 41.296875 42.84375 \r\nQ 37.203125 48.484375 30.078125 48.484375 \r\nQ 22.953125 48.484375 18.875 42.84375 \r\nQ 14.796875 37.203125 14.796875 27.296875 \r\nz\r\n\" id=\"DejaVuSans-100\"/>\r\n       <path d=\"M 11.71875 12.40625 \r\nL 22.015625 12.40625 \r\nL 22.015625 0 \r\nL 11.71875 0 \r\nz\r\nM 11.71875 51.703125 \r\nL 22.015625 51.703125 \r\nL 22.015625 39.3125 \r\nL 11.71875 39.3125 \r\nz\r\n\" id=\"DejaVuSans-58\"/>\r\n       <path id=\"DejaVuSans-32\"/>\r\n       <path d=\"M 31.78125 66.40625 \r\nQ 24.171875 66.40625 20.328125 58.90625 \r\nQ 16.5 51.421875 16.5 36.375 \r\nQ 16.5 21.390625 20.328125 13.890625 \r\nQ 24.171875 6.390625 31.78125 6.390625 \r\nQ 39.453125 6.390625 43.28125 13.890625 \r\nQ 47.125 21.390625 47.125 36.375 \r\nQ 47.125 51.421875 43.28125 58.90625 \r\nQ 39.453125 66.40625 31.78125 66.40625 \r\nz\r\nM 31.78125 74.21875 \r\nQ 44.046875 74.21875 50.515625 64.515625 \r\nQ 56.984375 54.828125 56.984375 36.375 \r\nQ 56.984375 17.96875 50.515625 8.265625 \r\nQ 44.046875 -1.421875 31.78125 -1.421875 \r\nQ 19.53125 -1.421875 13.0625 8.265625 \r\nQ 6.59375 17.96875 6.59375 36.375 \r\nQ 6.59375 54.828125 13.0625 64.515625 \r\nQ 19.53125 74.21875 31.78125 74.21875 \r\nz\r\n\" id=\"DejaVuSans-48\"/>\r\n      </defs>\r\n      <g style=\"fill:#262626;\" transform=\"translate(154.975313 514.152656)rotate(-90)scale(0.1 -0.1)\">\r\n       <use xlink:href=\"#DejaVuSans-85\"/>\r\n       <use x=\"73.193359\" xlink:href=\"#DejaVuSans-110\"/>\r\n       <use x=\"136.572266\" xlink:href=\"#DejaVuSans-110\"/>\r\n       <use x=\"199.951172\" xlink:href=\"#DejaVuSans-97\"/>\r\n       <use x=\"261.230469\" xlink:href=\"#DejaVuSans-109\"/>\r\n       <use x=\"358.642578\" xlink:href=\"#DejaVuSans-101\"/>\r\n       <use x=\"420.166016\" xlink:href=\"#DejaVuSans-100\"/>\r\n       <use x=\"483.642578\" xlink:href=\"#DejaVuSans-58\"/>\r\n       <use x=\"517.333984\" xlink:href=\"#DejaVuSans-32\"/>\r\n       <use x=\"549.121094\" xlink:href=\"#DejaVuSans-48\"/>\r\n      </g>\r\n     </g>\r\n    </g>\r\n    <g id=\"xtick_2\">\r\n     <g id=\"text_2\">\r\n      <!-- store_ID -->\r\n      <defs>\r\n       <path d=\"M 44.28125 53.078125 \r\nL 44.28125 44.578125 \r\nQ 40.484375 46.53125 36.375 47.5 \r\nQ 32.28125 48.484375 27.875 48.484375 \r\nQ 21.1875 48.484375 17.84375 46.4375 \r\nQ 14.5 44.390625 14.5 40.28125 \r\nQ 14.5 37.15625 16.890625 35.375 \r\nQ 19.28125 33.59375 26.515625 31.984375 \r\nL 29.59375 31.296875 \r\nQ 39.15625 29.25 43.1875 25.515625 \r\nQ 47.21875 21.78125 47.21875 15.09375 \r\nQ 47.21875 7.46875 41.1875 3.015625 \r\nQ 35.15625 -1.421875 24.609375 -1.421875 \r\nQ 20.21875 -1.421875 15.453125 -0.5625 \r\nQ 10.6875 0.296875 5.421875 2 \r\nL 5.421875 11.28125 \r\nQ 10.40625 8.6875 15.234375 7.390625 \r\nQ 20.0625 6.109375 24.8125 6.109375 \r\nQ 31.15625 6.109375 34.5625 8.28125 \r\nQ 37.984375 10.453125 37.984375 14.40625 \r\nQ 37.984375 18.0625 35.515625 20.015625 \r\nQ 33.0625 21.96875 24.703125 23.78125 \r\nL 21.578125 24.515625 \r\nQ 13.234375 26.265625 9.515625 29.90625 \r\nQ 5.8125 33.546875 5.8125 39.890625 \r\nQ 5.8125 47.609375 11.28125 51.796875 \r\nQ 16.75 56 26.8125 56 \r\nQ 31.78125 56 36.171875 55.265625 \r\nQ 40.578125 54.546875 44.28125 53.078125 \r\nz\r\n\" id=\"DejaVuSans-115\"/>\r\n       <path d=\"M 18.3125 70.21875 \r\nL 18.3125 54.6875 \r\nL 36.8125 54.6875 \r\nL 36.8125 47.703125 \r\nL 18.3125 47.703125 \r\nL 18.3125 18.015625 \r\nQ 18.3125 11.328125 20.140625 9.421875 \r\nQ 21.96875 7.515625 27.59375 7.515625 \r\nL 36.8125 7.515625 \r\nL 36.8125 0 \r\nL 27.59375 0 \r\nQ 17.1875 0 13.234375 3.875 \r\nQ 9.28125 7.765625 9.28125 18.015625 \r\nL 9.28125 47.703125 \r\nL 2.6875 47.703125 \r\nL 2.6875 54.6875 \r\nL 9.28125 54.6875 \r\nL 9.28125 70.21875 \r\nz\r\n\" id=\"DejaVuSans-116\"/>\r\n       <path d=\"M 30.609375 48.390625 \r\nQ 23.390625 48.390625 19.1875 42.75 \r\nQ 14.984375 37.109375 14.984375 27.296875 \r\nQ 14.984375 17.484375 19.15625 11.84375 \r\nQ 23.34375 6.203125 30.609375 6.203125 \r\nQ 37.796875 6.203125 41.984375 11.859375 \r\nQ 46.1875 17.53125 46.1875 27.296875 \r\nQ 46.1875 37.015625 41.984375 42.703125 \r\nQ 37.796875 48.390625 30.609375 48.390625 \r\nz\r\nM 30.609375 56 \r\nQ 42.328125 56 49.015625 48.375 \r\nQ 55.71875 40.765625 55.71875 27.296875 \r\nQ 55.71875 13.875 49.015625 6.21875 \r\nQ 42.328125 -1.421875 30.609375 -1.421875 \r\nQ 18.84375 -1.421875 12.171875 6.21875 \r\nQ 5.515625 13.875 5.515625 27.296875 \r\nQ 5.515625 40.765625 12.171875 48.375 \r\nQ 18.84375 56 30.609375 56 \r\nz\r\n\" id=\"DejaVuSans-111\"/>\r\n       <path d=\"M 41.109375 46.296875 \r\nQ 39.59375 47.171875 37.8125 47.578125 \r\nQ 36.03125 48 33.890625 48 \r\nQ 26.265625 48 22.1875 43.046875 \r\nQ 18.109375 38.09375 18.109375 28.8125 \r\nL 18.109375 0 \r\nL 9.078125 0 \r\nL 9.078125 54.6875 \r\nL 18.109375 54.6875 \r\nL 18.109375 46.1875 \r\nQ 20.953125 51.171875 25.484375 53.578125 \r\nQ 30.03125 56 36.53125 56 \r\nQ 37.453125 56 38.578125 55.875 \r\nQ 39.703125 55.765625 41.0625 55.515625 \r\nz\r\n\" id=\"DejaVuSans-114\"/>\r\n       <path d=\"M 50.984375 -16.609375 \r\nL 50.984375 -23.578125 \r\nL -0.984375 -23.578125 \r\nL -0.984375 -16.609375 \r\nz\r\n\" id=\"DejaVuSans-95\"/>\r\n       <path d=\"M 9.8125 72.90625 \r\nL 19.671875 72.90625 \r\nL 19.671875 0 \r\nL 9.8125 0 \r\nz\r\n\" id=\"DejaVuSans-73\"/>\r\n       <path d=\"M 19.671875 64.796875 \r\nL 19.671875 8.109375 \r\nL 31.59375 8.109375 \r\nQ 46.6875 8.109375 53.6875 14.9375 \r\nQ 60.6875 21.78125 60.6875 36.53125 \r\nQ 60.6875 51.171875 53.6875 57.984375 \r\nQ 46.6875 64.796875 31.59375 64.796875 \r\nz\r\nM 9.8125 72.90625 \r\nL 30.078125 72.90625 \r\nQ 51.265625 72.90625 61.171875 64.09375 \r\nQ 71.09375 55.28125 71.09375 36.53125 \r\nQ 71.09375 17.671875 61.125 8.828125 \r\nQ 51.171875 0 30.078125 0 \r\nL 9.8125 0 \r\nz\r\n\" id=\"DejaVuSans-68\"/>\r\n      </defs>\r\n      <g style=\"fill:#262626;\" transform=\"translate(209.057187 493.816719)rotate(-90)scale(0.1 -0.1)\">\r\n       <use xlink:href=\"#DejaVuSans-115\"/>\r\n       <use x=\"52.099609\" xlink:href=\"#DejaVuSans-116\"/>\r\n       <use x=\"91.308594\" xlink:href=\"#DejaVuSans-111\"/>\r\n       <use x=\"152.490234\" xlink:href=\"#DejaVuSans-114\"/>\r\n       <use x=\"191.353516\" xlink:href=\"#DejaVuSans-101\"/>\r\n       <use x=\"252.876953\" xlink:href=\"#DejaVuSans-95\"/>\r\n       <use x=\"302.876953\" xlink:href=\"#DejaVuSans-73\"/>\r\n       <use x=\"332.369141\" xlink:href=\"#DejaVuSans-68\"/>\r\n      </g>\r\n     </g>\r\n    </g>\r\n    <g id=\"xtick_3\">\r\n     <g id=\"text_3\">\r\n      <!-- day_of_week -->\r\n      <defs>\r\n       <path d=\"M 32.171875 -5.078125 \r\nQ 28.375 -14.84375 24.75 -17.8125 \r\nQ 21.140625 -20.796875 15.09375 -20.796875 \r\nL 7.90625 -20.796875 \r\nL 7.90625 -13.28125 \r\nL 13.1875 -13.28125 \r\nQ 16.890625 -13.28125 18.9375 -11.515625 \r\nQ 21 -9.765625 23.484375 -3.21875 \r\nL 25.09375 0.875 \r\nL 2.984375 54.6875 \r\nL 12.5 54.6875 \r\nL 29.59375 11.921875 \r\nL 46.6875 54.6875 \r\nL 56.203125 54.6875 \r\nz\r\n\" id=\"DejaVuSans-121\"/>\r\n       <path d=\"M 37.109375 75.984375 \r\nL 37.109375 68.5 \r\nL 28.515625 68.5 \r\nQ 23.6875 68.5 21.796875 66.546875 \r\nQ 19.921875 64.59375 19.921875 59.515625 \r\nL 19.921875 54.6875 \r\nL 34.71875 54.6875 \r\nL 34.71875 47.703125 \r\nL 19.921875 47.703125 \r\nL 19.921875 0 \r\nL 10.890625 0 \r\nL 10.890625 47.703125 \r\nL 2.296875 47.703125 \r\nL 2.296875 54.6875 \r\nL 10.890625 54.6875 \r\nL 10.890625 58.5 \r\nQ 10.890625 67.625 15.140625 71.796875 \r\nQ 19.390625 75.984375 28.609375 75.984375 \r\nz\r\n\" id=\"DejaVuSans-102\"/>\r\n       <path d=\"M 4.203125 54.6875 \r\nL 13.1875 54.6875 \r\nL 24.421875 12.015625 \r\nL 35.59375 54.6875 \r\nL 46.1875 54.6875 \r\nL 57.421875 12.015625 \r\nL 68.609375 54.6875 \r\nL 77.59375 54.6875 \r\nL 63.28125 0 \r\nL 52.6875 0 \r\nL 40.921875 44.828125 \r\nL 29.109375 0 \r\nL 18.5 0 \r\nz\r\n\" id=\"DejaVuSans-119\"/>\r\n       <path d=\"M 9.078125 75.984375 \r\nL 18.109375 75.984375 \r\nL 18.109375 31.109375 \r\nL 44.921875 54.6875 \r\nL 56.390625 54.6875 \r\nL 27.390625 29.109375 \r\nL 57.625 0 \r\nL 45.90625 0 \r\nL 18.109375 26.703125 \r\nL 18.109375 0 \r\nL 9.078125 0 \r\nz\r\n\" id=\"DejaVuSans-107\"/>\r\n      </defs>\r\n      <g style=\"fill:#262626;\" transform=\"translate(263.55625 517.188594)rotate(-90)scale(0.1 -0.1)\">\r\n       <use xlink:href=\"#DejaVuSans-100\"/>\r\n       <use x=\"63.476562\" xlink:href=\"#DejaVuSans-97\"/>\r\n       <use x=\"124.755859\" xlink:href=\"#DejaVuSans-121\"/>\r\n       <use x=\"183.935547\" xlink:href=\"#DejaVuSans-95\"/>\r\n       <use x=\"233.935547\" xlink:href=\"#DejaVuSans-111\"/>\r\n       <use x=\"295.117188\" xlink:href=\"#DejaVuSans-102\"/>\r\n       <use x=\"330.322266\" xlink:href=\"#DejaVuSans-95\"/>\r\n       <use x=\"380.322266\" xlink:href=\"#DejaVuSans-119\"/>\r\n       <use x=\"462.109375\" xlink:href=\"#DejaVuSans-101\"/>\r\n       <use x=\"523.632812\" xlink:href=\"#DejaVuSans-101\"/>\r\n       <use x=\"585.15625\" xlink:href=\"#DejaVuSans-107\"/>\r\n      </g>\r\n     </g>\r\n    </g>\r\n    <g id=\"xtick_4\">\r\n     <g id=\"text_4\">\r\n      <!-- nb_customers_on_day -->\r\n      <defs>\r\n       <path d=\"M 48.6875 27.296875 \r\nQ 48.6875 37.203125 44.609375 42.84375 \r\nQ 40.53125 48.484375 33.40625 48.484375 \r\nQ 26.265625 48.484375 22.1875 42.84375 \r\nQ 18.109375 37.203125 18.109375 27.296875 \r\nQ 18.109375 17.390625 22.1875 11.75 \r\nQ 26.265625 6.109375 33.40625 6.109375 \r\nQ 40.53125 6.109375 44.609375 11.75 \r\nQ 48.6875 17.390625 48.6875 27.296875 \r\nz\r\nM 18.109375 46.390625 \r\nQ 20.953125 51.265625 25.265625 53.625 \r\nQ 29.59375 56 35.59375 56 \r\nQ 45.5625 56 51.78125 48.09375 \r\nQ 58.015625 40.1875 58.015625 27.296875 \r\nQ 58.015625 14.40625 51.78125 6.484375 \r\nQ 45.5625 -1.421875 35.59375 -1.421875 \r\nQ 29.59375 -1.421875 25.265625 0.953125 \r\nQ 20.953125 3.328125 18.109375 8.203125 \r\nL 18.109375 0 \r\nL 9.078125 0 \r\nL 9.078125 75.984375 \r\nL 18.109375 75.984375 \r\nz\r\n\" id=\"DejaVuSans-98\"/>\r\n       <path d=\"M 48.78125 52.59375 \r\nL 48.78125 44.1875 \r\nQ 44.96875 46.296875 41.140625 47.34375 \r\nQ 37.3125 48.390625 33.40625 48.390625 \r\nQ 24.65625 48.390625 19.8125 42.84375 \r\nQ 14.984375 37.3125 14.984375 27.296875 \r\nQ 14.984375 17.28125 19.8125 11.734375 \r\nQ 24.65625 6.203125 33.40625 6.203125 \r\nQ 37.3125 6.203125 41.140625 7.25 \r\nQ 44.96875 8.296875 48.78125 10.40625 \r\nL 48.78125 2.09375 \r\nQ 45.015625 0.34375 40.984375 -0.53125 \r\nQ 36.96875 -1.421875 32.421875 -1.421875 \r\nQ 20.0625 -1.421875 12.78125 6.34375 \r\nQ 5.515625 14.109375 5.515625 27.296875 \r\nQ 5.515625 40.671875 12.859375 48.328125 \r\nQ 20.21875 56 33.015625 56 \r\nQ 37.15625 56 41.109375 55.140625 \r\nQ 45.0625 54.296875 48.78125 52.59375 \r\nz\r\n\" id=\"DejaVuSans-99\"/>\r\n       <path d=\"M 8.5 21.578125 \r\nL 8.5 54.6875 \r\nL 17.484375 54.6875 \r\nL 17.484375 21.921875 \r\nQ 17.484375 14.15625 20.5 10.265625 \r\nQ 23.53125 6.390625 29.59375 6.390625 \r\nQ 36.859375 6.390625 41.078125 11.03125 \r\nQ 45.3125 15.671875 45.3125 23.6875 \r\nL 45.3125 54.6875 \r\nL 54.296875 54.6875 \r\nL 54.296875 0 \r\nL 45.3125 0 \r\nL 45.3125 8.40625 \r\nQ 42.046875 3.421875 37.71875 1 \r\nQ 33.40625 -1.421875 27.6875 -1.421875 \r\nQ 18.265625 -1.421875 13.375 4.4375 \r\nQ 8.5 10.296875 8.5 21.578125 \r\nz\r\nM 31.109375 56 \r\nz\r\n\" id=\"DejaVuSans-117\"/>\r\n      </defs>\r\n      <g style=\"fill:#262626;\" transform=\"translate(317.91625 563.715156)rotate(-90)scale(0.1 -0.1)\">\r\n       <use xlink:href=\"#DejaVuSans-110\"/>\r\n       <use x=\"63.378906\" xlink:href=\"#DejaVuSans-98\"/>\r\n       <use x=\"126.855469\" xlink:href=\"#DejaVuSans-95\"/>\r\n       <use x=\"176.855469\" xlink:href=\"#DejaVuSans-99\"/>\r\n       <use x=\"231.835938\" xlink:href=\"#DejaVuSans-117\"/>\r\n       <use x=\"295.214844\" xlink:href=\"#DejaVuSans-115\"/>\r\n       <use x=\"347.314453\" xlink:href=\"#DejaVuSans-116\"/>\r\n       <use x=\"386.523438\" xlink:href=\"#DejaVuSans-111\"/>\r\n       <use x=\"447.705078\" xlink:href=\"#DejaVuSans-109\"/>\r\n       <use x=\"545.117188\" xlink:href=\"#DejaVuSans-101\"/>\r\n       <use x=\"606.640625\" xlink:href=\"#DejaVuSans-114\"/>\r\n       <use x=\"647.753906\" xlink:href=\"#DejaVuSans-115\"/>\r\n       <use x=\"699.853516\" xlink:href=\"#DejaVuSans-95\"/>\r\n       <use x=\"749.853516\" xlink:href=\"#DejaVuSans-111\"/>\r\n       <use x=\"811.035156\" xlink:href=\"#DejaVuSans-110\"/>\r\n       <use x=\"874.414062\" xlink:href=\"#DejaVuSans-95\"/>\r\n       <use x=\"924.414062\" xlink:href=\"#DejaVuSans-100\"/>\r\n       <use x=\"987.890625\" xlink:href=\"#DejaVuSans-97\"/>\r\n       <use x=\"1049.169922\" xlink:href=\"#DejaVuSans-121\"/>\r\n      </g>\r\n     </g>\r\n    </g>\r\n    <g id=\"xtick_5\">\r\n     <g id=\"text_5\">\r\n      <!-- open -->\r\n      <defs>\r\n       <path d=\"M 18.109375 8.203125 \r\nL 18.109375 -20.796875 \r\nL 9.078125 -20.796875 \r\nL 9.078125 54.6875 \r\nL 18.109375 54.6875 \r\nL 18.109375 46.390625 \r\nQ 20.953125 51.265625 25.265625 53.625 \r\nQ 29.59375 56 35.59375 56 \r\nQ 45.5625 56 51.78125 48.09375 \r\nQ 58.015625 40.1875 58.015625 27.296875 \r\nQ 58.015625 14.40625 51.78125 6.484375 \r\nQ 45.5625 -1.421875 35.59375 -1.421875 \r\nQ 29.59375 -1.421875 25.265625 0.953125 \r\nQ 20.953125 3.328125 18.109375 8.203125 \r\nz\r\nM 48.6875 27.296875 \r\nQ 48.6875 37.203125 44.609375 42.84375 \r\nQ 40.53125 48.484375 33.40625 48.484375 \r\nQ 26.265625 48.484375 22.1875 42.84375 \r\nQ 18.109375 37.203125 18.109375 27.296875 \r\nQ 18.109375 17.390625 22.1875 11.75 \r\nQ 26.265625 6.109375 33.40625 6.109375 \r\nQ 40.53125 6.109375 44.609375 11.75 \r\nQ 48.6875 17.390625 48.6875 27.296875 \r\nz\r\n\" id=\"DejaVuSans-112\"/>\r\n      </defs>\r\n      <g style=\"fill:#262626;\" transform=\"translate(372.415313 477.837031)rotate(-90)scale(0.1 -0.1)\">\r\n       <use xlink:href=\"#DejaVuSans-111\"/>\r\n       <use x=\"61.181641\" xlink:href=\"#DejaVuSans-112\"/>\r\n       <use x=\"124.658203\" xlink:href=\"#DejaVuSans-101\"/>\r\n       <use x=\"186.181641\" xlink:href=\"#DejaVuSans-110\"/>\r\n      </g>\r\n     </g>\r\n    </g>\r\n    <g id=\"xtick_6\">\r\n     <g id=\"text_6\">\r\n      <!-- promotion -->\r\n      <defs>\r\n       <path d=\"M 9.421875 54.6875 \r\nL 18.40625 54.6875 \r\nL 18.40625 0 \r\nL 9.421875 0 \r\nz\r\nM 9.421875 75.984375 \r\nL 18.40625 75.984375 \r\nL 18.40625 64.59375 \r\nL 9.421875 64.59375 \r\nz\r\n\" id=\"DejaVuSans-105\"/>\r\n      </defs>\r\n      <g style=\"fill:#262626;\" transform=\"translate(426.775312 504.246406)rotate(-90)scale(0.1 -0.1)\">\r\n       <use xlink:href=\"#DejaVuSans-112\"/>\r\n       <use x=\"63.476562\" xlink:href=\"#DejaVuSans-114\"/>\r\n       <use x=\"102.339844\" xlink:href=\"#DejaVuSans-111\"/>\r\n       <use x=\"163.521484\" xlink:href=\"#DejaVuSans-109\"/>\r\n       <use x=\"260.933594\" xlink:href=\"#DejaVuSans-111\"/>\r\n       <use x=\"322.115234\" xlink:href=\"#DejaVuSans-116\"/>\r\n       <use x=\"361.324219\" xlink:href=\"#DejaVuSans-105\"/>\r\n       <use x=\"389.107422\" xlink:href=\"#DejaVuSans-111\"/>\r\n       <use x=\"450.289062\" xlink:href=\"#DejaVuSans-110\"/>\r\n      </g>\r\n     </g>\r\n    </g>\r\n    <g id=\"xtick_7\">\r\n     <g id=\"text_7\">\r\n      <!-- state_holiday -->\r\n      <defs>\r\n       <path d=\"M 54.890625 33.015625 \r\nL 54.890625 0 \r\nL 45.90625 0 \r\nL 45.90625 32.71875 \r\nQ 45.90625 40.484375 42.875 44.328125 \r\nQ 39.84375 48.1875 33.796875 48.1875 \r\nQ 26.515625 48.1875 22.3125 43.546875 \r\nQ 18.109375 38.921875 18.109375 30.90625 \r\nL 18.109375 0 \r\nL 9.078125 0 \r\nL 9.078125 75.984375 \r\nL 18.109375 75.984375 \r\nL 18.109375 46.1875 \r\nQ 21.34375 51.125 25.703125 53.5625 \r\nQ 30.078125 56 35.796875 56 \r\nQ 45.21875 56 50.046875 50.171875 \r\nQ 54.890625 44.34375 54.890625 33.015625 \r\nz\r\n\" id=\"DejaVuSans-104\"/>\r\n       <path d=\"M 9.421875 75.984375 \r\nL 18.40625 75.984375 \r\nL 18.40625 0 \r\nL 9.421875 0 \r\nz\r\n\" id=\"DejaVuSans-108\"/>\r\n      </defs>\r\n      <g style=\"fill:#262626;\" transform=\"translate(480.99625 519.618281)rotate(-90)scale(0.1 -0.1)\">\r\n       <use xlink:href=\"#DejaVuSans-115\"/>\r\n       <use x=\"52.099609\" xlink:href=\"#DejaVuSans-116\"/>\r\n       <use x=\"91.308594\" xlink:href=\"#DejaVuSans-97\"/>\r\n       <use x=\"152.587891\" xlink:href=\"#DejaVuSans-116\"/>\r\n       <use x=\"191.796875\" xlink:href=\"#DejaVuSans-101\"/>\r\n       <use x=\"253.320312\" xlink:href=\"#DejaVuSans-95\"/>\r\n       <use x=\"303.320312\" xlink:href=\"#DejaVuSans-104\"/>\r\n       <use x=\"366.699219\" xlink:href=\"#DejaVuSans-111\"/>\r\n       <use x=\"427.880859\" xlink:href=\"#DejaVuSans-108\"/>\r\n       <use x=\"455.664062\" xlink:href=\"#DejaVuSans-105\"/>\r\n       <use x=\"483.447266\" xlink:href=\"#DejaVuSans-100\"/>\r\n       <use x=\"546.923828\" xlink:href=\"#DejaVuSans-97\"/>\r\n       <use x=\"608.203125\" xlink:href=\"#DejaVuSans-121\"/>\r\n      </g>\r\n     </g>\r\n    </g>\r\n    <g id=\"xtick_8\">\r\n     <g id=\"text_8\">\r\n      <!-- school_holiday -->\r\n      <g style=\"fill:#262626;\" transform=\"translate(535.35625 526.347969)rotate(-90)scale(0.1 -0.1)\">\r\n       <use xlink:href=\"#DejaVuSans-115\"/>\r\n       <use x=\"52.099609\" xlink:href=\"#DejaVuSans-99\"/>\r\n       <use x=\"107.080078\" xlink:href=\"#DejaVuSans-104\"/>\r\n       <use x=\"170.458984\" xlink:href=\"#DejaVuSans-111\"/>\r\n       <use x=\"231.640625\" xlink:href=\"#DejaVuSans-111\"/>\r\n       <use x=\"292.822266\" xlink:href=\"#DejaVuSans-108\"/>\r\n       <use x=\"320.605469\" xlink:href=\"#DejaVuSans-95\"/>\r\n       <use x=\"370.605469\" xlink:href=\"#DejaVuSans-104\"/>\r\n       <use x=\"433.984375\" xlink:href=\"#DejaVuSans-111\"/>\r\n       <use x=\"495.166016\" xlink:href=\"#DejaVuSans-108\"/>\r\n       <use x=\"522.949219\" xlink:href=\"#DejaVuSans-105\"/>\r\n       <use x=\"550.732422\" xlink:href=\"#DejaVuSans-100\"/>\r\n       <use x=\"614.208984\" xlink:href=\"#DejaVuSans-97\"/>\r\n       <use x=\"675.488281\" xlink:href=\"#DejaVuSans-121\"/>\r\n      </g>\r\n     </g>\r\n    </g>\r\n   </g>\r\n   <g id=\"matplotlib.axis_2\">\r\n    <g id=\"ytick_1\">\r\n     <g id=\"text_9\">\r\n      <!-- Unnamed: 0 -->\r\n      <g style=\"fill:#262626;\" transform=\"translate(56.7625 41.978438)scale(0.1 -0.1)\">\r\n       <use xlink:href=\"#DejaVuSans-85\"/>\r\n       <use x=\"73.193359\" xlink:href=\"#DejaVuSans-110\"/>\r\n       <use x=\"136.572266\" xlink:href=\"#DejaVuSans-110\"/>\r\n       <use x=\"199.951172\" xlink:href=\"#DejaVuSans-97\"/>\r\n       <use x=\"261.230469\" xlink:href=\"#DejaVuSans-109\"/>\r\n       <use x=\"358.642578\" xlink:href=\"#DejaVuSans-101\"/>\r\n       <use x=\"420.166016\" xlink:href=\"#DejaVuSans-100\"/>\r\n       <use x=\"483.642578\" xlink:href=\"#DejaVuSans-58\"/>\r\n       <use x=\"517.333984\" xlink:href=\"#DejaVuSans-32\"/>\r\n       <use x=\"549.121094\" xlink:href=\"#DejaVuSans-48\"/>\r\n      </g>\r\n     </g>\r\n    </g>\r\n    <g id=\"ytick_2\">\r\n     <g id=\"text_10\">\r\n      <!-- store_ID -->\r\n      <g style=\"fill:#262626;\" transform=\"translate(77.098438 96.199375)scale(0.1 -0.1)\">\r\n       <use xlink:href=\"#DejaVuSans-115\"/>\r\n       <use x=\"52.099609\" xlink:href=\"#DejaVuSans-116\"/>\r\n       <use x=\"91.308594\" xlink:href=\"#DejaVuSans-111\"/>\r\n       <use x=\"152.490234\" xlink:href=\"#DejaVuSans-114\"/>\r\n       <use x=\"191.353516\" xlink:href=\"#DejaVuSans-101\"/>\r\n       <use x=\"252.876953\" xlink:href=\"#DejaVuSans-95\"/>\r\n       <use x=\"302.876953\" xlink:href=\"#DejaVuSans-73\"/>\r\n       <use x=\"332.369141\" xlink:href=\"#DejaVuSans-68\"/>\r\n      </g>\r\n     </g>\r\n    </g>\r\n    <g id=\"ytick_3\">\r\n     <g id=\"text_11\">\r\n      <!-- day_of_week -->\r\n      <g style=\"fill:#262626;\" transform=\"translate(53.726562 150.698438)scale(0.1 -0.1)\">\r\n       <use xlink:href=\"#DejaVuSans-100\"/>\r\n       <use x=\"63.476562\" xlink:href=\"#DejaVuSans-97\"/>\r\n       <use x=\"124.755859\" xlink:href=\"#DejaVuSans-121\"/>\r\n       <use x=\"183.935547\" xlink:href=\"#DejaVuSans-95\"/>\r\n       <use x=\"233.935547\" xlink:href=\"#DejaVuSans-111\"/>\r\n       <use x=\"295.117188\" xlink:href=\"#DejaVuSans-102\"/>\r\n       <use x=\"330.322266\" xlink:href=\"#DejaVuSans-95\"/>\r\n       <use x=\"380.322266\" xlink:href=\"#DejaVuSans-119\"/>\r\n       <use x=\"462.109375\" xlink:href=\"#DejaVuSans-101\"/>\r\n       <use x=\"523.632812\" xlink:href=\"#DejaVuSans-101\"/>\r\n       <use x=\"585.15625\" xlink:href=\"#DejaVuSans-107\"/>\r\n      </g>\r\n     </g>\r\n    </g>\r\n    <g id=\"ytick_4\">\r\n     <g id=\"text_12\">\r\n      <!-- nb_customers_on_day -->\r\n      <g style=\"fill:#262626;\" transform=\"translate(7.2 205.058438)scale(0.1 -0.1)\">\r\n       <use xlink:href=\"#DejaVuSans-110\"/>\r\n       <use x=\"63.378906\" xlink:href=\"#DejaVuSans-98\"/>\r\n       <use x=\"126.855469\" xlink:href=\"#DejaVuSans-95\"/>\r\n       <use x=\"176.855469\" xlink:href=\"#DejaVuSans-99\"/>\r\n       <use x=\"231.835938\" xlink:href=\"#DejaVuSans-117\"/>\r\n       <use x=\"295.214844\" xlink:href=\"#DejaVuSans-115\"/>\r\n       <use x=\"347.314453\" xlink:href=\"#DejaVuSans-116\"/>\r\n       <use x=\"386.523438\" xlink:href=\"#DejaVuSans-111\"/>\r\n       <use x=\"447.705078\" xlink:href=\"#DejaVuSans-109\"/>\r\n       <use x=\"545.117188\" xlink:href=\"#DejaVuSans-101\"/>\r\n       <use x=\"606.640625\" xlink:href=\"#DejaVuSans-114\"/>\r\n       <use x=\"647.753906\" xlink:href=\"#DejaVuSans-115\"/>\r\n       <use x=\"699.853516\" xlink:href=\"#DejaVuSans-95\"/>\r\n       <use x=\"749.853516\" xlink:href=\"#DejaVuSans-111\"/>\r\n       <use x=\"811.035156\" xlink:href=\"#DejaVuSans-110\"/>\r\n       <use x=\"874.414062\" xlink:href=\"#DejaVuSans-95\"/>\r\n       <use x=\"924.414062\" xlink:href=\"#DejaVuSans-100\"/>\r\n       <use x=\"987.890625\" xlink:href=\"#DejaVuSans-97\"/>\r\n       <use x=\"1049.169922\" xlink:href=\"#DejaVuSans-121\"/>\r\n      </g>\r\n     </g>\r\n    </g>\r\n    <g id=\"ytick_5\">\r\n     <g id=\"text_13\">\r\n      <!-- open -->\r\n      <g style=\"fill:#262626;\" transform=\"translate(93.078125 259.418438)scale(0.1 -0.1)\">\r\n       <use xlink:href=\"#DejaVuSans-111\"/>\r\n       <use x=\"61.181641\" xlink:href=\"#DejaVuSans-112\"/>\r\n       <use x=\"124.658203\" xlink:href=\"#DejaVuSans-101\"/>\r\n       <use x=\"186.181641\" xlink:href=\"#DejaVuSans-110\"/>\r\n      </g>\r\n     </g>\r\n    </g>\r\n    <g id=\"ytick_6\">\r\n     <g id=\"text_14\">\r\n      <!-- promotion -->\r\n      <g style=\"fill:#262626;\" transform=\"translate(66.66875 313.778438)scale(0.1 -0.1)\">\r\n       <use xlink:href=\"#DejaVuSans-112\"/>\r\n       <use x=\"63.476562\" xlink:href=\"#DejaVuSans-114\"/>\r\n       <use x=\"102.339844\" xlink:href=\"#DejaVuSans-111\"/>\r\n       <use x=\"163.521484\" xlink:href=\"#DejaVuSans-109\"/>\r\n       <use x=\"260.933594\" xlink:href=\"#DejaVuSans-111\"/>\r\n       <use x=\"322.115234\" xlink:href=\"#DejaVuSans-116\"/>\r\n       <use x=\"361.324219\" xlink:href=\"#DejaVuSans-105\"/>\r\n       <use x=\"389.107422\" xlink:href=\"#DejaVuSans-111\"/>\r\n       <use x=\"450.289062\" xlink:href=\"#DejaVuSans-110\"/>\r\n      </g>\r\n     </g>\r\n    </g>\r\n    <g id=\"ytick_7\">\r\n     <g id=\"text_15\">\r\n      <!-- state_holiday -->\r\n      <g style=\"fill:#262626;\" transform=\"translate(51.296875 368.138438)scale(0.1 -0.1)\">\r\n       <use xlink:href=\"#DejaVuSans-115\"/>\r\n       <use x=\"52.099609\" xlink:href=\"#DejaVuSans-116\"/>\r\n       <use x=\"91.308594\" xlink:href=\"#DejaVuSans-97\"/>\r\n       <use x=\"152.587891\" xlink:href=\"#DejaVuSans-116\"/>\r\n       <use x=\"191.796875\" xlink:href=\"#DejaVuSans-101\"/>\r\n       <use x=\"253.320312\" xlink:href=\"#DejaVuSans-95\"/>\r\n       <use x=\"303.320312\" xlink:href=\"#DejaVuSans-104\"/>\r\n       <use x=\"366.699219\" xlink:href=\"#DejaVuSans-111\"/>\r\n       <use x=\"427.880859\" xlink:href=\"#DejaVuSans-108\"/>\r\n       <use x=\"455.664062\" xlink:href=\"#DejaVuSans-105\"/>\r\n       <use x=\"483.447266\" xlink:href=\"#DejaVuSans-100\"/>\r\n       <use x=\"546.923828\" xlink:href=\"#DejaVuSans-97\"/>\r\n       <use x=\"608.203125\" xlink:href=\"#DejaVuSans-121\"/>\r\n      </g>\r\n     </g>\r\n    </g>\r\n    <g id=\"ytick_8\">\r\n     <g id=\"text_16\">\r\n      <!-- school_holiday -->\r\n      <g style=\"fill:#262626;\" transform=\"translate(44.567188 422.498438)scale(0.1 -0.1)\">\r\n       <use xlink:href=\"#DejaVuSans-115\"/>\r\n       <use x=\"52.099609\" xlink:href=\"#DejaVuSans-99\"/>\r\n       <use x=\"107.080078\" xlink:href=\"#DejaVuSans-104\"/>\r\n       <use x=\"170.458984\" xlink:href=\"#DejaVuSans-111\"/>\r\n       <use x=\"231.640625\" xlink:href=\"#DejaVuSans-111\"/>\r\n       <use x=\"292.822266\" xlink:href=\"#DejaVuSans-108\"/>\r\n       <use x=\"320.605469\" xlink:href=\"#DejaVuSans-95\"/>\r\n       <use x=\"370.605469\" xlink:href=\"#DejaVuSans-104\"/>\r\n       <use x=\"433.984375\" xlink:href=\"#DejaVuSans-111\"/>\r\n       <use x=\"495.166016\" xlink:href=\"#DejaVuSans-108\"/>\r\n       <use x=\"522.949219\" xlink:href=\"#DejaVuSans-105\"/>\r\n       <use x=\"550.732422\" xlink:href=\"#DejaVuSans-100\"/>\r\n       <use x=\"614.208984\" xlink:href=\"#DejaVuSans-97\"/>\r\n       <use x=\"675.488281\" xlink:href=\"#DejaVuSans-121\"/>\r\n      </g>\r\n     </g>\r\n    </g>\r\n   </g>\r\n   <g id=\"QuadMesh_1\">\r\n    <path clip-path=\"url(#p24fbdb875f)\" d=\"M 125.035938 10.999219 \r\nL 179.395938 10.999219 \r\nL 179.395938 65.359219 \r\nL 125.035938 65.359219 \r\nL 125.035938 10.999219 \r\n\" style=\"fill:none;stroke:#ffffff;stroke-width:0.5;\"/>\r\n    <path clip-path=\"url(#p24fbdb875f)\" d=\"M 179.395938 10.999219 \r\nL 233.755938 10.999219 \r\nL 233.755938 65.359219 \r\nL 179.395938 65.359219 \r\nL 179.395938 10.999219 \r\n\" style=\"fill:none;stroke:#ffffff;stroke-width:0.5;\"/>\r\n    <path clip-path=\"url(#p24fbdb875f)\" d=\"M 233.755938 10.999219 \r\nL 288.115938 10.999219 \r\nL 288.115938 65.359219 \r\nL 233.755938 65.359219 \r\nL 233.755938 10.999219 \r\n\" style=\"fill:none;stroke:#ffffff;stroke-width:0.5;\"/>\r\n    <path clip-path=\"url(#p24fbdb875f)\" d=\"M 288.115938 10.999219 \r\nL 342.475938 10.999219 \r\nL 342.475938 65.359219 \r\nL 288.115938 65.359219 \r\nL 288.115938 10.999219 \r\n\" style=\"fill:none;stroke:#ffffff;stroke-width:0.5;\"/>\r\n    <path clip-path=\"url(#p24fbdb875f)\" d=\"M 342.475938 10.999219 \r\nL 396.835938 10.999219 \r\nL 396.835938 65.359219 \r\nL 342.475938 65.359219 \r\nL 342.475938 10.999219 \r\n\" style=\"fill:none;stroke:#ffffff;stroke-width:0.5;\"/>\r\n    <path clip-path=\"url(#p24fbdb875f)\" d=\"M 396.835938 10.999219 \r\nL 451.195938 10.999219 \r\nL 451.195938 65.359219 \r\nL 396.835938 65.359219 \r\nL 396.835938 10.999219 \r\n\" style=\"fill:none;stroke:#ffffff;stroke-width:0.5;\"/>\r\n    <path clip-path=\"url(#p24fbdb875f)\" d=\"M 451.195938 10.999219 \r\nL 505.555938 10.999219 \r\nL 505.555938 65.359219 \r\nL 451.195938 65.359219 \r\nL 451.195938 10.999219 \r\n\" style=\"fill:none;stroke:#ffffff;stroke-width:0.5;\"/>\r\n    <path clip-path=\"url(#p24fbdb875f)\" d=\"M 505.555938 10.999219 \r\nL 559.915938 10.999219 \r\nL 559.915938 65.359219 \r\nL 505.555938 65.359219 \r\nL 505.555938 10.999219 \r\n\" style=\"fill:none;stroke:#ffffff;stroke-width:0.5;\"/>\r\n    <path clip-path=\"url(#p24fbdb875f)\" d=\"M 125.035938 65.359219 \r\nL 179.395938 65.359219 \r\nL 179.395938 119.719219 \r\nL 125.035938 119.719219 \r\nL 125.035938 65.359219 \r\n\" style=\"fill:#03051a;stroke:#ffffff;stroke-width:0.5;\"/>\r\n    <path clip-path=\"url(#p24fbdb875f)\" d=\"M 179.395938 65.359219 \r\nL 233.755938 65.359219 \r\nL 233.755938 119.719219 \r\nL 179.395938 119.719219 \r\nL 179.395938 65.359219 \r\n\" style=\"fill:none;stroke:#ffffff;stroke-width:0.5;\"/>\r\n    <path clip-path=\"url(#p24fbdb875f)\" d=\"M 233.755938 65.359219 \r\nL 288.115938 65.359219 \r\nL 288.115938 119.719219 \r\nL 233.755938 119.719219 \r\nL 233.755938 65.359219 \r\n\" style=\"fill:none;stroke:#ffffff;stroke-width:0.5;\"/>\r\n    <path clip-path=\"url(#p24fbdb875f)\" d=\"M 288.115938 65.359219 \r\nL 342.475938 65.359219 \r\nL 342.475938 119.719219 \r\nL 288.115938 119.719219 \r\nL 288.115938 65.359219 \r\n\" style=\"fill:none;stroke:#ffffff;stroke-width:0.5;\"/>\r\n    <path clip-path=\"url(#p24fbdb875f)\" d=\"M 342.475938 65.359219 \r\nL 396.835938 65.359219 \r\nL 396.835938 119.719219 \r\nL 342.475938 119.719219 \r\nL 342.475938 65.359219 \r\n\" style=\"fill:none;stroke:#ffffff;stroke-width:0.5;\"/>\r\n    <path clip-path=\"url(#p24fbdb875f)\" d=\"M 396.835938 65.359219 \r\nL 451.195938 65.359219 \r\nL 451.195938 119.719219 \r\nL 396.835938 119.719219 \r\nL 396.835938 65.359219 \r\n\" style=\"fill:none;stroke:#ffffff;stroke-width:0.5;\"/>\r\n    <path clip-path=\"url(#p24fbdb875f)\" d=\"M 451.195938 65.359219 \r\nL 505.555938 65.359219 \r\nL 505.555938 119.719219 \r\nL 451.195938 119.719219 \r\nL 451.195938 65.359219 \r\n\" style=\"fill:none;stroke:#ffffff;stroke-width:0.5;\"/>\r\n    <path clip-path=\"url(#p24fbdb875f)\" d=\"M 505.555938 65.359219 \r\nL 559.915938 65.359219 \r\nL 559.915938 119.719219 \r\nL 505.555938 119.719219 \r\nL 505.555938 65.359219 \r\n\" style=\"fill:none;stroke:#ffffff;stroke-width:0.5;\"/>\r\n    <path clip-path=\"url(#p24fbdb875f)\" d=\"M 125.035938 119.719219 \r\nL 179.395938 119.719219 \r\nL 179.395938 174.079219 \r\nL 125.035938 174.079219 \r\nL 125.035938 119.719219 \r\n\" style=\"fill:#03051a;stroke:#ffffff;stroke-width:0.5;\"/>\r\n    <path clip-path=\"url(#p24fbdb875f)\" d=\"M 179.395938 119.719219 \r\nL 233.755938 119.719219 \r\nL 233.755938 174.079219 \r\nL 179.395938 174.079219 \r\nL 179.395938 119.719219 \r\n\" style=\"fill:#03051a;stroke:#ffffff;stroke-width:0.5;\"/>\r\n    <path clip-path=\"url(#p24fbdb875f)\" d=\"M 233.755938 119.719219 \r\nL 288.115938 119.719219 \r\nL 288.115938 174.079219 \r\nL 233.755938 174.079219 \r\nL 233.755938 119.719219 \r\n\" style=\"fill:none;stroke:#ffffff;stroke-width:0.5;\"/>\r\n    <path clip-path=\"url(#p24fbdb875f)\" d=\"M 288.115938 119.719219 \r\nL 342.475938 119.719219 \r\nL 342.475938 174.079219 \r\nL 288.115938 174.079219 \r\nL 288.115938 119.719219 \r\n\" style=\"fill:none;stroke:#ffffff;stroke-width:0.5;\"/>\r\n    <path clip-path=\"url(#p24fbdb875f)\" d=\"M 342.475938 119.719219 \r\nL 396.835938 119.719219 \r\nL 396.835938 174.079219 \r\nL 342.475938 174.079219 \r\nL 342.475938 119.719219 \r\n\" style=\"fill:none;stroke:#ffffff;stroke-width:0.5;\"/>\r\n    <path clip-path=\"url(#p24fbdb875f)\" d=\"M 396.835938 119.719219 \r\nL 451.195938 119.719219 \r\nL 451.195938 174.079219 \r\nL 396.835938 174.079219 \r\nL 396.835938 119.719219 \r\n\" style=\"fill:none;stroke:#ffffff;stroke-width:0.5;\"/>\r\n    <path clip-path=\"url(#p24fbdb875f)\" d=\"M 451.195938 119.719219 \r\nL 505.555938 119.719219 \r\nL 505.555938 174.079219 \r\nL 451.195938 174.079219 \r\nL 451.195938 119.719219 \r\n\" style=\"fill:none;stroke:#ffffff;stroke-width:0.5;\"/>\r\n    <path clip-path=\"url(#p24fbdb875f)\" d=\"M 505.555938 119.719219 \r\nL 559.915938 119.719219 \r\nL 559.915938 174.079219 \r\nL 505.555938 174.079219 \r\nL 505.555938 119.719219 \r\n\" style=\"fill:none;stroke:#ffffff;stroke-width:0.5;\"/>\r\n    <path clip-path=\"url(#p24fbdb875f)\" d=\"M 125.035938 174.079219 \r\nL 179.395938 174.079219 \r\nL 179.395938 228.439219 \r\nL 125.035938 228.439219 \r\nL 125.035938 174.079219 \r\n\" style=\"fill:#03051a;stroke:#ffffff;stroke-width:0.5;\"/>\r\n    <path clip-path=\"url(#p24fbdb875f)\" d=\"M 179.395938 174.079219 \r\nL 233.755938 174.079219 \r\nL 233.755938 228.439219 \r\nL 179.395938 228.439219 \r\nL 179.395938 174.079219 \r\n\" style=\"fill:#0a091f;stroke:#ffffff;stroke-width:0.5;\"/>\r\n    <path clip-path=\"url(#p24fbdb875f)\" d=\"M 233.755938 174.079219 \r\nL 288.115938 174.079219 \r\nL 288.115938 228.439219 \r\nL 233.755938 228.439219 \r\nL 233.755938 174.079219 \r\n\" style=\"fill:#03051a;stroke:#ffffff;stroke-width:0.5;\"/>\r\n    <path clip-path=\"url(#p24fbdb875f)\" d=\"M 288.115938 174.079219 \r\nL 342.475938 174.079219 \r\nL 342.475938 228.439219 \r\nL 288.115938 228.439219 \r\nL 288.115938 174.079219 \r\n\" style=\"fill:none;stroke:#ffffff;stroke-width:0.5;\"/>\r\n    <path clip-path=\"url(#p24fbdb875f)\" d=\"M 342.475938 174.079219 \r\nL 396.835938 174.079219 \r\nL 396.835938 228.439219 \r\nL 342.475938 228.439219 \r\nL 342.475938 174.079219 \r\n\" style=\"fill:none;stroke:#ffffff;stroke-width:0.5;\"/>\r\n    <path clip-path=\"url(#p24fbdb875f)\" d=\"M 396.835938 174.079219 \r\nL 451.195938 174.079219 \r\nL 451.195938 228.439219 \r\nL 396.835938 228.439219 \r\nL 396.835938 174.079219 \r\n\" style=\"fill:none;stroke:#ffffff;stroke-width:0.5;\"/>\r\n    <path clip-path=\"url(#p24fbdb875f)\" d=\"M 451.195938 174.079219 \r\nL 505.555938 174.079219 \r\nL 505.555938 228.439219 \r\nL 451.195938 228.439219 \r\nL 451.195938 174.079219 \r\n\" style=\"fill:none;stroke:#ffffff;stroke-width:0.5;\"/>\r\n    <path clip-path=\"url(#p24fbdb875f)\" d=\"M 505.555938 174.079219 \r\nL 559.915938 174.079219 \r\nL 559.915938 228.439219 \r\nL 505.555938 228.439219 \r\nL 505.555938 174.079219 \r\n\" style=\"fill:none;stroke:#ffffff;stroke-width:0.5;\"/>\r\n    <path clip-path=\"url(#p24fbdb875f)\" d=\"M 125.035938 228.439219 \r\nL 179.395938 228.439219 \r\nL 179.395938 282.799219 \r\nL 125.035938 282.799219 \r\nL 125.035938 228.439219 \r\n\" style=\"fill:#03051a;stroke:#ffffff;stroke-width:0.5;\"/>\r\n    <path clip-path=\"url(#p24fbdb875f)\" d=\"M 179.395938 228.439219 \r\nL 233.755938 228.439219 \r\nL 233.755938 282.799219 \r\nL 179.395938 282.799219 \r\nL 179.395938 228.439219 \r\n\" style=\"fill:#03051a;stroke:#ffffff;stroke-width:0.5;\"/>\r\n    <path clip-path=\"url(#p24fbdb875f)\" d=\"M 233.755938 228.439219 \r\nL 288.115938 228.439219 \r\nL 288.115938 282.799219 \r\nL 233.755938 282.799219 \r\nL 233.755938 228.439219 \r\n\" style=\"fill:#03051a;stroke:#ffffff;stroke-width:0.5;\"/>\r\n    <path clip-path=\"url(#p24fbdb875f)\" d=\"M 288.115938 228.439219 \r\nL 342.475938 228.439219 \r\nL 342.475938 282.799219 \r\nL 288.115938 282.799219 \r\nL 288.115938 228.439219 \r\n\" style=\"fill:#eb483e;stroke:#ffffff;stroke-width:0.5;\"/>\r\n    <path clip-path=\"url(#p24fbdb875f)\" d=\"M 342.475938 228.439219 \r\nL 396.835938 228.439219 \r\nL 396.835938 282.799219 \r\nL 342.475938 282.799219 \r\nL 342.475938 228.439219 \r\n\" style=\"fill:none;stroke:#ffffff;stroke-width:0.5;\"/>\r\n    <path clip-path=\"url(#p24fbdb875f)\" d=\"M 396.835938 228.439219 \r\nL 451.195938 228.439219 \r\nL 451.195938 282.799219 \r\nL 396.835938 282.799219 \r\nL 396.835938 228.439219 \r\n\" style=\"fill:none;stroke:#ffffff;stroke-width:0.5;\"/>\r\n    <path clip-path=\"url(#p24fbdb875f)\" d=\"M 451.195938 228.439219 \r\nL 505.555938 228.439219 \r\nL 505.555938 282.799219 \r\nL 451.195938 282.799219 \r\nL 451.195938 228.439219 \r\n\" style=\"fill:none;stroke:#ffffff;stroke-width:0.5;\"/>\r\n    <path clip-path=\"url(#p24fbdb875f)\" d=\"M 505.555938 228.439219 \r\nL 559.915938 228.439219 \r\nL 559.915938 282.799219 \r\nL 505.555938 282.799219 \r\nL 505.555938 228.439219 \r\n\" style=\"fill:none;stroke:#ffffff;stroke-width:0.5;\"/>\r\n    <path clip-path=\"url(#p24fbdb875f)\" d=\"M 125.035938 282.799219 \r\nL 179.395938 282.799219 \r\nL 179.395938 337.159219 \r\nL 125.035938 337.159219 \r\nL 125.035938 282.799219 \r\n\" style=\"fill:#03051a;stroke:#ffffff;stroke-width:0.5;\"/>\r\n    <path clip-path=\"url(#p24fbdb875f)\" d=\"M 179.395938 282.799219 \r\nL 233.755938 282.799219 \r\nL 233.755938 337.159219 \r\nL 179.395938 337.159219 \r\nL 179.395938 282.799219 \r\n\" style=\"fill:#03051a;stroke:#ffffff;stroke-width:0.5;\"/>\r\n    <path clip-path=\"url(#p24fbdb875f)\" d=\"M 233.755938 282.799219 \r\nL 288.115938 282.799219 \r\nL 288.115938 337.159219 \r\nL 233.755938 337.159219 \r\nL 233.755938 282.799219 \r\n\" style=\"fill:#03051a;stroke:#ffffff;stroke-width:0.5;\"/>\r\n    <path clip-path=\"url(#p24fbdb875f)\" d=\"M 288.115938 282.799219 \r\nL 342.475938 282.799219 \r\nL 342.475938 337.159219 \r\nL 288.115938 337.159219 \r\nL 288.115938 282.799219 \r\n\" style=\"fill:#7b1f59;stroke:#ffffff;stroke-width:0.5;\"/>\r\n    <path clip-path=\"url(#p24fbdb875f)\" d=\"M 342.475938 282.799219 \r\nL 396.835938 282.799219 \r\nL 396.835938 337.159219 \r\nL 342.475938 337.159219 \r\nL 342.475938 282.799219 \r\n\" style=\"fill:#731f58;stroke:#ffffff;stroke-width:0.5;\"/>\r\n    <path clip-path=\"url(#p24fbdb875f)\" d=\"M 396.835938 282.799219 \r\nL 451.195938 282.799219 \r\nL 451.195938 337.159219 \r\nL 396.835938 337.159219 \r\nL 396.835938 282.799219 \r\n\" style=\"fill:none;stroke:#ffffff;stroke-width:0.5;\"/>\r\n    <path clip-path=\"url(#p24fbdb875f)\" d=\"M 451.195938 282.799219 \r\nL 505.555938 282.799219 \r\nL 505.555938 337.159219 \r\nL 451.195938 337.159219 \r\nL 451.195938 282.799219 \r\n\" style=\"fill:none;stroke:#ffffff;stroke-width:0.5;\"/>\r\n    <path clip-path=\"url(#p24fbdb875f)\" d=\"M 505.555938 282.799219 \r\nL 559.915938 282.799219 \r\nL 559.915938 337.159219 \r\nL 505.555938 337.159219 \r\nL 505.555938 282.799219 \r\n\" style=\"fill:none;stroke:#ffffff;stroke-width:0.5;\"/>\r\n    <path clip-path=\"url(#p24fbdb875f)\" d=\"M 125.035938 337.159219 \r\nL 179.395938 337.159219 \r\nL 179.395938 391.519219 \r\nL 125.035938 391.519219 \r\nL 125.035938 337.159219 \r\n\" style=\"fill:none;stroke:#ffffff;stroke-width:0.5;\"/>\r\n    <path clip-path=\"url(#p24fbdb875f)\" d=\"M 179.395938 337.159219 \r\nL 233.755938 337.159219 \r\nL 233.755938 391.519219 \r\nL 179.395938 391.519219 \r\nL 179.395938 337.159219 \r\n\" style=\"fill:none;stroke:#ffffff;stroke-width:0.5;\"/>\r\n    <path clip-path=\"url(#p24fbdb875f)\" d=\"M 233.755938 337.159219 \r\nL 288.115938 337.159219 \r\nL 288.115938 391.519219 \r\nL 233.755938 391.519219 \r\nL 233.755938 337.159219 \r\n\" style=\"fill:none;stroke:#ffffff;stroke-width:0.5;\"/>\r\n    <path clip-path=\"url(#p24fbdb875f)\" d=\"M 288.115938 337.159219 \r\nL 342.475938 337.159219 \r\nL 342.475938 391.519219 \r\nL 288.115938 391.519219 \r\nL 288.115938 337.159219 \r\n\" style=\"fill:none;stroke:#ffffff;stroke-width:0.5;\"/>\r\n    <path clip-path=\"url(#p24fbdb875f)\" d=\"M 342.475938 337.159219 \r\nL 396.835938 337.159219 \r\nL 396.835938 391.519219 \r\nL 342.475938 391.519219 \r\nL 342.475938 337.159219 \r\n\" style=\"fill:none;stroke:#ffffff;stroke-width:0.5;\"/>\r\n    <path clip-path=\"url(#p24fbdb875f)\" d=\"M 396.835938 337.159219 \r\nL 451.195938 337.159219 \r\nL 451.195938 391.519219 \r\nL 396.835938 391.519219 \r\nL 396.835938 337.159219 \r\n\" style=\"fill:none;stroke:#ffffff;stroke-width:0.5;\"/>\r\n    <path clip-path=\"url(#p24fbdb875f)\" d=\"M 451.195938 337.159219 \r\nL 505.555938 337.159219 \r\nL 505.555938 391.519219 \r\nL 451.195938 391.519219 \r\nL 451.195938 337.159219 \r\n\" style=\"fill:none;stroke:#ffffff;stroke-width:0.5;\"/>\r\n    <path clip-path=\"url(#p24fbdb875f)\" d=\"M 505.555938 337.159219 \r\nL 559.915938 337.159219 \r\nL 559.915938 391.519219 \r\nL 505.555938 391.519219 \r\nL 505.555938 337.159219 \r\n\" style=\"fill:none;stroke:#ffffff;stroke-width:0.5;\"/>\r\n    <path clip-path=\"url(#p24fbdb875f)\" d=\"M 125.035938 391.519219 \r\nL 179.395938 391.519219 \r\nL 179.395938 445.879219 \r\nL 125.035938 445.879219 \r\nL 125.035938 391.519219 \r\n\" style=\"fill:#03051a;stroke:#ffffff;stroke-width:0.5;\"/>\r\n    <path clip-path=\"url(#p24fbdb875f)\" d=\"M 179.395938 391.519219 \r\nL 233.755938 391.519219 \r\nL 233.755938 445.879219 \r\nL 179.395938 445.879219 \r\nL 179.395938 391.519219 \r\n\" style=\"fill:#03051a;stroke:#ffffff;stroke-width:0.5;\"/>\r\n    <path clip-path=\"url(#p24fbdb875f)\" d=\"M 233.755938 391.519219 \r\nL 288.115938 391.519219 \r\nL 288.115938 445.879219 \r\nL 233.755938 445.879219 \r\nL 233.755938 391.519219 \r\n\" style=\"fill:#03051a;stroke:#ffffff;stroke-width:0.5;\"/>\r\n    <path clip-path=\"url(#p24fbdb875f)\" d=\"M 288.115938 391.519219 \r\nL 342.475938 391.519219 \r\nL 342.475938 445.879219 \r\nL 288.115938 445.879219 \r\nL 288.115938 391.519219 \r\n\" style=\"fill:#1b112b;stroke:#ffffff;stroke-width:0.5;\"/>\r\n    <path clip-path=\"url(#p24fbdb875f)\" d=\"M 342.475938 391.519219 \r\nL 396.835938 391.519219 \r\nL 396.835938 445.879219 \r\nL 342.475938 445.879219 \r\nL 342.475938 391.519219 \r\n\" style=\"fill:#20122e;stroke:#ffffff;stroke-width:0.5;\"/>\r\n    <path clip-path=\"url(#p24fbdb875f)\" d=\"M 396.835938 391.519219 \r\nL 451.195938 391.519219 \r\nL 451.195938 445.879219 \r\nL 396.835938 445.879219 \r\nL 396.835938 391.519219 \r\n\" style=\"fill:#1a102a;stroke:#ffffff;stroke-width:0.5;\"/>\r\n    <path clip-path=\"url(#p24fbdb875f)\" d=\"M 451.195938 391.519219 \r\nL 505.555938 391.519219 \r\nL 505.555938 445.879219 \r\nL 451.195938 445.879219 \r\nL 451.195938 391.519219 \r\n\" style=\"fill:none;stroke:#ffffff;stroke-width:0.5;\"/>\r\n    <path clip-path=\"url(#p24fbdb875f)\" d=\"M 505.555938 391.519219 \r\nL 559.915938 391.519219 \r\nL 559.915938 445.879219 \r\nL 505.555938 445.879219 \r\nL 505.555938 391.519219 \r\n\" style=\"fill:none;stroke:#ffffff;stroke-width:0.5;\"/>\r\n   </g>\r\n   <g id=\"text_17\">\r\n    <!-- -0.0011 -->\r\n    <defs>\r\n     <path d=\"M 4.890625 31.390625 \r\nL 31.203125 31.390625 \r\nL 31.203125 23.390625 \r\nL 4.890625 23.390625 \r\nz\r\n\" id=\"DejaVuSans-45\"/>\r\n     <path d=\"M 10.6875 12.40625 \r\nL 21 12.40625 \r\nL 21 0 \r\nL 10.6875 0 \r\nz\r\n\" id=\"DejaVuSans-46\"/>\r\n     <path d=\"M 12.40625 8.296875 \r\nL 28.515625 8.296875 \r\nL 28.515625 63.921875 \r\nL 10.984375 60.40625 \r\nL 10.984375 69.390625 \r\nL 28.421875 72.90625 \r\nL 38.28125 72.90625 \r\nL 38.28125 8.296875 \r\nL 54.390625 8.296875 \r\nL 54.390625 0 \r\nL 12.40625 0 \r\nz\r\n\" id=\"DejaVuSans-49\"/>\r\n    </defs>\r\n    <g style=\"fill:#ffffff;\" transform=\"translate(132.916719 95.298594)scale(0.1 -0.1)\">\r\n     <use xlink:href=\"#DejaVuSans-45\"/>\r\n     <use x=\"36.083984\" xlink:href=\"#DejaVuSans-48\"/>\r\n     <use x=\"99.707031\" xlink:href=\"#DejaVuSans-46\"/>\r\n     <use x=\"131.494141\" xlink:href=\"#DejaVuSans-48\"/>\r\n     <use x=\"195.117188\" xlink:href=\"#DejaVuSans-48\"/>\r\n     <use x=\"258.740234\" xlink:href=\"#DejaVuSans-49\"/>\r\n     <use x=\"322.363281\" xlink:href=\"#DejaVuSans-49\"/>\r\n    </g>\r\n   </g>\r\n   <g id=\"text_18\">\r\n    <!-- -0.00083 -->\r\n    <defs>\r\n     <path d=\"M 31.78125 34.625 \r\nQ 24.75 34.625 20.71875 30.859375 \r\nQ 16.703125 27.09375 16.703125 20.515625 \r\nQ 16.703125 13.921875 20.71875 10.15625 \r\nQ 24.75 6.390625 31.78125 6.390625 \r\nQ 38.8125 6.390625 42.859375 10.171875 \r\nQ 46.921875 13.96875 46.921875 20.515625 \r\nQ 46.921875 27.09375 42.890625 30.859375 \r\nQ 38.875 34.625 31.78125 34.625 \r\nz\r\nM 21.921875 38.8125 \r\nQ 15.578125 40.375 12.03125 44.71875 \r\nQ 8.5 49.078125 8.5 55.328125 \r\nQ 8.5 64.0625 14.71875 69.140625 \r\nQ 20.953125 74.21875 31.78125 74.21875 \r\nQ 42.671875 74.21875 48.875 69.140625 \r\nQ 55.078125 64.0625 55.078125 55.328125 \r\nQ 55.078125 49.078125 51.53125 44.71875 \r\nQ 48 40.375 41.703125 38.8125 \r\nQ 48.828125 37.15625 52.796875 32.3125 \r\nQ 56.78125 27.484375 56.78125 20.515625 \r\nQ 56.78125 9.90625 50.3125 4.234375 \r\nQ 43.84375 -1.421875 31.78125 -1.421875 \r\nQ 19.734375 -1.421875 13.25 4.234375 \r\nQ 6.78125 9.90625 6.78125 20.515625 \r\nQ 6.78125 27.484375 10.78125 32.3125 \r\nQ 14.796875 37.15625 21.921875 38.8125 \r\nz\r\nM 18.3125 54.390625 \r\nQ 18.3125 48.734375 21.84375 45.5625 \r\nQ 25.390625 42.390625 31.78125 42.390625 \r\nQ 38.140625 42.390625 41.71875 45.5625 \r\nQ 45.3125 48.734375 45.3125 54.390625 \r\nQ 45.3125 60.0625 41.71875 63.234375 \r\nQ 38.140625 66.40625 31.78125 66.40625 \r\nQ 25.390625 66.40625 21.84375 63.234375 \r\nQ 18.3125 60.0625 18.3125 54.390625 \r\nz\r\n\" id=\"DejaVuSans-56\"/>\r\n     <path d=\"M 40.578125 39.3125 \r\nQ 47.65625 37.796875 51.625 33 \r\nQ 55.609375 28.21875 55.609375 21.1875 \r\nQ 55.609375 10.40625 48.1875 4.484375 \r\nQ 40.765625 -1.421875 27.09375 -1.421875 \r\nQ 22.515625 -1.421875 17.65625 -0.515625 \r\nQ 12.796875 0.390625 7.625 2.203125 \r\nL 7.625 11.71875 \r\nQ 11.71875 9.328125 16.59375 8.109375 \r\nQ 21.484375 6.890625 26.8125 6.890625 \r\nQ 36.078125 6.890625 40.9375 10.546875 \r\nQ 45.796875 14.203125 45.796875 21.1875 \r\nQ 45.796875 27.640625 41.28125 31.265625 \r\nQ 36.765625 34.90625 28.71875 34.90625 \r\nL 20.21875 34.90625 \r\nL 20.21875 43.015625 \r\nL 29.109375 43.015625 \r\nQ 36.375 43.015625 40.234375 45.921875 \r\nQ 44.09375 48.828125 44.09375 54.296875 \r\nQ 44.09375 59.90625 40.109375 62.90625 \r\nQ 36.140625 65.921875 28.71875 65.921875 \r\nQ 24.65625 65.921875 20.015625 65.03125 \r\nQ 15.375 64.15625 9.8125 62.3125 \r\nL 9.8125 71.09375 \r\nQ 15.4375 72.65625 20.34375 73.4375 \r\nQ 25.25 74.21875 29.59375 74.21875 \r\nQ 40.828125 74.21875 47.359375 69.109375 \r\nQ 53.90625 64.015625 53.90625 55.328125 \r\nQ 53.90625 49.265625 50.4375 45.09375 \r\nQ 46.96875 40.921875 40.578125 39.3125 \r\nz\r\n\" id=\"DejaVuSans-51\"/>\r\n    </defs>\r\n    <g style=\"fill:#ffffff;\" transform=\"translate(129.735469 149.658594)scale(0.1 -0.1)\">\r\n     <use xlink:href=\"#DejaVuSans-45\"/>\r\n     <use x=\"36.083984\" xlink:href=\"#DejaVuSans-48\"/>\r\n     <use x=\"99.707031\" xlink:href=\"#DejaVuSans-46\"/>\r\n     <use x=\"131.494141\" xlink:href=\"#DejaVuSans-48\"/>\r\n     <use x=\"195.117188\" xlink:href=\"#DejaVuSans-48\"/>\r\n     <use x=\"258.740234\" xlink:href=\"#DejaVuSans-48\"/>\r\n     <use x=\"322.363281\" xlink:href=\"#DejaVuSans-56\"/>\r\n     <use x=\"385.986328\" xlink:href=\"#DejaVuSans-51\"/>\r\n    </g>\r\n   </g>\r\n   <g id=\"text_19\">\r\n    <!-- 0.00033 -->\r\n    <g style=\"fill:#ffffff;\" transform=\"translate(185.899375 149.658594)scale(0.1 -0.1)\">\r\n     <use xlink:href=\"#DejaVuSans-48\"/>\r\n     <use x=\"63.623047\" xlink:href=\"#DejaVuSans-46\"/>\r\n     <use x=\"95.410156\" xlink:href=\"#DejaVuSans-48\"/>\r\n     <use x=\"159.033203\" xlink:href=\"#DejaVuSans-48\"/>\r\n     <use x=\"222.65625\" xlink:href=\"#DejaVuSans-48\"/>\r\n     <use x=\"286.279297\" xlink:href=\"#DejaVuSans-51\"/>\r\n     <use x=\"349.902344\" xlink:href=\"#DejaVuSans-51\"/>\r\n    </g>\r\n   </g>\r\n   <g id=\"text_20\">\r\n    <!-- -0.00093 -->\r\n    <defs>\r\n     <path d=\"M 10.984375 1.515625 \r\nL 10.984375 10.5 \r\nQ 14.703125 8.734375 18.5 7.8125 \r\nQ 22.3125 6.890625 25.984375 6.890625 \r\nQ 35.75 6.890625 40.890625 13.453125 \r\nQ 46.046875 20.015625 46.78125 33.40625 \r\nQ 43.953125 29.203125 39.59375 26.953125 \r\nQ 35.25 24.703125 29.984375 24.703125 \r\nQ 19.046875 24.703125 12.671875 31.3125 \r\nQ 6.296875 37.9375 6.296875 49.421875 \r\nQ 6.296875 60.640625 12.9375 67.421875 \r\nQ 19.578125 74.21875 30.609375 74.21875 \r\nQ 43.265625 74.21875 49.921875 64.515625 \r\nQ 56.59375 54.828125 56.59375 36.375 \r\nQ 56.59375 19.140625 48.40625 8.859375 \r\nQ 40.234375 -1.421875 26.421875 -1.421875 \r\nQ 22.703125 -1.421875 18.890625 -0.6875 \r\nQ 15.09375 0.046875 10.984375 1.515625 \r\nz\r\nM 30.609375 32.421875 \r\nQ 37.25 32.421875 41.125 36.953125 \r\nQ 45.015625 41.5 45.015625 49.421875 \r\nQ 45.015625 57.28125 41.125 61.84375 \r\nQ 37.25 66.40625 30.609375 66.40625 \r\nQ 23.96875 66.40625 20.09375 61.84375 \r\nQ 16.21875 57.28125 16.21875 49.421875 \r\nQ 16.21875 41.5 20.09375 36.953125 \r\nQ 23.96875 32.421875 30.609375 32.421875 \r\nz\r\n\" id=\"DejaVuSans-57\"/>\r\n    </defs>\r\n    <g style=\"fill:#ffffff;\" transform=\"translate(129.735469 204.018594)scale(0.1 -0.1)\">\r\n     <use xlink:href=\"#DejaVuSans-45\"/>\r\n     <use x=\"36.083984\" xlink:href=\"#DejaVuSans-48\"/>\r\n     <use x=\"99.707031\" xlink:href=\"#DejaVuSans-46\"/>\r\n     <use x=\"131.494141\" xlink:href=\"#DejaVuSans-48\"/>\r\n     <use x=\"195.117188\" xlink:href=\"#DejaVuSans-48\"/>\r\n     <use x=\"258.740234\" xlink:href=\"#DejaVuSans-48\"/>\r\n     <use x=\"322.363281\" xlink:href=\"#DejaVuSans-57\"/>\r\n     <use x=\"385.986328\" xlink:href=\"#DejaVuSans-51\"/>\r\n    </g>\r\n   </g>\r\n   <g id=\"text_21\">\r\n    <!-- 0.024 -->\r\n    <defs>\r\n     <path d=\"M 19.1875 8.296875 \r\nL 53.609375 8.296875 \r\nL 53.609375 0 \r\nL 7.328125 0 \r\nL 7.328125 8.296875 \r\nQ 12.9375 14.109375 22.625 23.890625 \r\nQ 32.328125 33.6875 34.8125 36.53125 \r\nQ 39.546875 41.84375 41.421875 45.53125 \r\nQ 43.3125 49.21875 43.3125 52.78125 \r\nQ 43.3125 58.59375 39.234375 62.25 \r\nQ 35.15625 65.921875 28.609375 65.921875 \r\nQ 23.96875 65.921875 18.8125 64.3125 \r\nQ 13.671875 62.703125 7.8125 59.421875 \r\nL 7.8125 69.390625 \r\nQ 13.765625 71.78125 18.9375 73 \r\nQ 24.125 74.21875 28.421875 74.21875 \r\nQ 39.75 74.21875 46.484375 68.546875 \r\nQ 53.21875 62.890625 53.21875 53.421875 \r\nQ 53.21875 48.921875 51.53125 44.890625 \r\nQ 49.859375 40.875 45.40625 35.40625 \r\nQ 44.1875 33.984375 37.640625 27.21875 \r\nQ 31.109375 20.453125 19.1875 8.296875 \r\nz\r\n\" id=\"DejaVuSans-50\"/>\r\n     <path d=\"M 37.796875 64.3125 \r\nL 12.890625 25.390625 \r\nL 37.796875 25.390625 \r\nz\r\nM 35.203125 72.90625 \r\nL 47.609375 72.90625 \r\nL 47.609375 25.390625 \r\nL 58.015625 25.390625 \r\nL 58.015625 17.1875 \r\nL 47.609375 17.1875 \r\nL 47.609375 0 \r\nL 37.796875 0 \r\nL 37.796875 17.1875 \r\nL 4.890625 17.1875 \r\nL 4.890625 26.703125 \r\nz\r\n\" id=\"DejaVuSans-52\"/>\r\n    </defs>\r\n    <g style=\"fill:#ffffff;\" transform=\"translate(192.261875 204.018594)scale(0.1 -0.1)\">\r\n     <use xlink:href=\"#DejaVuSans-48\"/>\r\n     <use x=\"63.623047\" xlink:href=\"#DejaVuSans-46\"/>\r\n     <use x=\"95.410156\" xlink:href=\"#DejaVuSans-48\"/>\r\n     <use x=\"159.033203\" xlink:href=\"#DejaVuSans-50\"/>\r\n     <use x=\"222.65625\" xlink:href=\"#DejaVuSans-52\"/>\r\n    </g>\r\n   </g>\r\n   <g id=\"text_22\">\r\n    <!-- -0.39 -->\r\n    <g style=\"fill:#ffffff;\" transform=\"translate(247.999219 204.018594)scale(0.1 -0.1)\">\r\n     <use xlink:href=\"#DejaVuSans-45\"/>\r\n     <use x=\"36.083984\" xlink:href=\"#DejaVuSans-48\"/>\r\n     <use x=\"99.707031\" xlink:href=\"#DejaVuSans-46\"/>\r\n     <use x=\"131.494141\" xlink:href=\"#DejaVuSans-51\"/>\r\n     <use x=\"195.117188\" xlink:href=\"#DejaVuSans-57\"/>\r\n    </g>\r\n   </g>\r\n   <g id=\"text_23\">\r\n    <!-- 8.3e-05 -->\r\n    <defs>\r\n     <path d=\"M 10.796875 72.90625 \r\nL 49.515625 72.90625 \r\nL 49.515625 64.59375 \r\nL 19.828125 64.59375 \r\nL 19.828125 46.734375 \r\nQ 21.96875 47.46875 24.109375 47.828125 \r\nQ 26.265625 48.1875 28.421875 48.1875 \r\nQ 40.625 48.1875 47.75 41.5 \r\nQ 54.890625 34.8125 54.890625 23.390625 \r\nQ 54.890625 11.625 47.5625 5.09375 \r\nQ 40.234375 -1.421875 26.90625 -1.421875 \r\nQ 22.3125 -1.421875 17.546875 -0.640625 \r\nQ 12.796875 0.140625 7.71875 1.703125 \r\nL 7.71875 11.625 \r\nQ 12.109375 9.234375 16.796875 8.0625 \r\nQ 21.484375 6.890625 26.703125 6.890625 \r\nQ 35.15625 6.890625 40.078125 11.328125 \r\nQ 45.015625 15.765625 45.015625 23.390625 \r\nQ 45.015625 31 40.078125 35.4375 \r\nQ 35.15625 39.890625 26.703125 39.890625 \r\nQ 22.75 39.890625 18.8125 39.015625 \r\nQ 14.890625 38.140625 10.796875 36.28125 \r\nz\r\n\" id=\"DejaVuSans-53\"/>\r\n    </defs>\r\n    <g style=\"fill:#ffffff;\" transform=\"translate(133.021406 258.378594)scale(0.1 -0.1)\">\r\n     <use xlink:href=\"#DejaVuSans-56\"/>\r\n     <use x=\"63.623047\" xlink:href=\"#DejaVuSans-46\"/>\r\n     <use x=\"95.410156\" xlink:href=\"#DejaVuSans-51\"/>\r\n     <use x=\"159.033203\" xlink:href=\"#DejaVuSans-101\"/>\r\n     <use x=\"220.556641\" xlink:href=\"#DejaVuSans-45\"/>\r\n     <use x=\"256.640625\" xlink:href=\"#DejaVuSans-48\"/>\r\n     <use x=\"320.263672\" xlink:href=\"#DejaVuSans-53\"/>\r\n    </g>\r\n   </g>\r\n   <g id=\"text_24\">\r\n    <!-- -0.0011 -->\r\n    <g style=\"fill:#ffffff;\" transform=\"translate(187.276719 258.378594)scale(0.1 -0.1)\">\r\n     <use xlink:href=\"#DejaVuSans-45\"/>\r\n     <use x=\"36.083984\" xlink:href=\"#DejaVuSans-48\"/>\r\n     <use x=\"99.707031\" xlink:href=\"#DejaVuSans-46\"/>\r\n     <use x=\"131.494141\" xlink:href=\"#DejaVuSans-48\"/>\r\n     <use x=\"195.117188\" xlink:href=\"#DejaVuSans-48\"/>\r\n     <use x=\"258.740234\" xlink:href=\"#DejaVuSans-49\"/>\r\n     <use x=\"322.363281\" xlink:href=\"#DejaVuSans-49\"/>\r\n    </g>\r\n   </g>\r\n   <g id=\"text_25\">\r\n    <!-- -0.53 -->\r\n    <g style=\"fill:#ffffff;\" transform=\"translate(247.999219 258.378594)scale(0.1 -0.1)\">\r\n     <use xlink:href=\"#DejaVuSans-45\"/>\r\n     <use x=\"36.083984\" xlink:href=\"#DejaVuSans-48\"/>\r\n     <use x=\"99.707031\" xlink:href=\"#DejaVuSans-46\"/>\r\n     <use x=\"131.494141\" xlink:href=\"#DejaVuSans-53\"/>\r\n     <use x=\"195.117188\" xlink:href=\"#DejaVuSans-51\"/>\r\n    </g>\r\n   </g>\r\n   <g id=\"text_26\">\r\n    <!-- 0.62 -->\r\n    <defs>\r\n     <path d=\"M 33.015625 40.375 \r\nQ 26.375 40.375 22.484375 35.828125 \r\nQ 18.609375 31.296875 18.609375 23.390625 \r\nQ 18.609375 15.53125 22.484375 10.953125 \r\nQ 26.375 6.390625 33.015625 6.390625 \r\nQ 39.65625 6.390625 43.53125 10.953125 \r\nQ 47.40625 15.53125 47.40625 23.390625 \r\nQ 47.40625 31.296875 43.53125 35.828125 \r\nQ 39.65625 40.375 33.015625 40.375 \r\nz\r\nM 52.59375 71.296875 \r\nL 52.59375 62.3125 \r\nQ 48.875 64.0625 45.09375 64.984375 \r\nQ 41.3125 65.921875 37.59375 65.921875 \r\nQ 27.828125 65.921875 22.671875 59.328125 \r\nQ 17.53125 52.734375 16.796875 39.40625 \r\nQ 19.671875 43.65625 24.015625 45.921875 \r\nQ 28.375 48.1875 33.59375 48.1875 \r\nQ 44.578125 48.1875 50.953125 41.515625 \r\nQ 57.328125 34.859375 57.328125 23.390625 \r\nQ 57.328125 12.15625 50.6875 5.359375 \r\nQ 44.046875 -1.421875 33.015625 -1.421875 \r\nQ 20.359375 -1.421875 13.671875 8.265625 \r\nQ 6.984375 17.96875 6.984375 36.375 \r\nQ 6.984375 53.65625 15.1875 63.9375 \r\nQ 23.390625 74.21875 37.203125 74.21875 \r\nQ 40.921875 74.21875 44.703125 73.484375 \r\nQ 48.484375 72.75 52.59375 71.296875 \r\nz\r\n\" id=\"DejaVuSans-54\"/>\r\n    </defs>\r\n    <g style=\"fill:#ffffff;\" transform=\"translate(304.163125 258.378594)scale(0.1 -0.1)\">\r\n     <use xlink:href=\"#DejaVuSans-48\"/>\r\n     <use x=\"63.623047\" xlink:href=\"#DejaVuSans-46\"/>\r\n     <use x=\"95.410156\" xlink:href=\"#DejaVuSans-54\"/>\r\n     <use x=\"159.033203\" xlink:href=\"#DejaVuSans-50\"/>\r\n    </g>\r\n   </g>\r\n   <g id=\"text_27\">\r\n    <!-- -0.0016 -->\r\n    <g style=\"fill:#ffffff;\" transform=\"translate(132.916719 312.738594)scale(0.1 -0.1)\">\r\n     <use xlink:href=\"#DejaVuSans-45\"/>\r\n     <use x=\"36.083984\" xlink:href=\"#DejaVuSans-48\"/>\r\n     <use x=\"99.707031\" xlink:href=\"#DejaVuSans-46\"/>\r\n     <use x=\"131.494141\" xlink:href=\"#DejaVuSans-48\"/>\r\n     <use x=\"195.117188\" xlink:href=\"#DejaVuSans-48\"/>\r\n     <use x=\"258.740234\" xlink:href=\"#DejaVuSans-49\"/>\r\n     <use x=\"322.363281\" xlink:href=\"#DejaVuSans-54\"/>\r\n    </g>\r\n   </g>\r\n   <g id=\"text_28\">\r\n    <!-- -0.00036 -->\r\n    <g style=\"fill:#ffffff;\" transform=\"translate(184.095469 312.738594)scale(0.1 -0.1)\">\r\n     <use xlink:href=\"#DejaVuSans-45\"/>\r\n     <use x=\"36.083984\" xlink:href=\"#DejaVuSans-48\"/>\r\n     <use x=\"99.707031\" xlink:href=\"#DejaVuSans-46\"/>\r\n     <use x=\"131.494141\" xlink:href=\"#DejaVuSans-48\"/>\r\n     <use x=\"195.117188\" xlink:href=\"#DejaVuSans-48\"/>\r\n     <use x=\"258.740234\" xlink:href=\"#DejaVuSans-48\"/>\r\n     <use x=\"322.363281\" xlink:href=\"#DejaVuSans-51\"/>\r\n     <use x=\"385.986328\" xlink:href=\"#DejaVuSans-54\"/>\r\n    </g>\r\n   </g>\r\n   <g id=\"text_29\">\r\n    <!-- -0.39 -->\r\n    <g style=\"fill:#ffffff;\" transform=\"translate(247.999219 312.738594)scale(0.1 -0.1)\">\r\n     <use xlink:href=\"#DejaVuSans-45\"/>\r\n     <use x=\"36.083984\" xlink:href=\"#DejaVuSans-48\"/>\r\n     <use x=\"99.707031\" xlink:href=\"#DejaVuSans-46\"/>\r\n     <use x=\"131.494141\" xlink:href=\"#DejaVuSans-51\"/>\r\n     <use x=\"195.117188\" xlink:href=\"#DejaVuSans-57\"/>\r\n    </g>\r\n   </g>\r\n   <g id=\"text_30\">\r\n    <!-- 0.32 -->\r\n    <g style=\"fill:#ffffff;\" transform=\"translate(304.163125 312.738594)scale(0.1 -0.1)\">\r\n     <use xlink:href=\"#DejaVuSans-48\"/>\r\n     <use x=\"63.623047\" xlink:href=\"#DejaVuSans-46\"/>\r\n     <use x=\"95.410156\" xlink:href=\"#DejaVuSans-51\"/>\r\n     <use x=\"159.033203\" xlink:href=\"#DejaVuSans-50\"/>\r\n    </g>\r\n   </g>\r\n   <g id=\"text_31\">\r\n    <!-- 0.29 -->\r\n    <g style=\"fill:#ffffff;\" transform=\"translate(358.523125 312.738594)scale(0.1 -0.1)\">\r\n     <use xlink:href=\"#DejaVuSans-48\"/>\r\n     <use x=\"63.623047\" xlink:href=\"#DejaVuSans-46\"/>\r\n     <use x=\"95.410156\" xlink:href=\"#DejaVuSans-50\"/>\r\n     <use x=\"159.033203\" xlink:href=\"#DejaVuSans-57\"/>\r\n    </g>\r\n   </g>\r\n   <g id=\"text_32\">\r\n    <!-- -0.00032 -->\r\n    <g style=\"fill:#ffffff;\" transform=\"translate(129.735469 421.458594)scale(0.1 -0.1)\">\r\n     <use xlink:href=\"#DejaVuSans-45\"/>\r\n     <use x=\"36.083984\" xlink:href=\"#DejaVuSans-48\"/>\r\n     <use x=\"99.707031\" xlink:href=\"#DejaVuSans-46\"/>\r\n     <use x=\"131.494141\" xlink:href=\"#DejaVuSans-48\"/>\r\n     <use x=\"195.117188\" xlink:href=\"#DejaVuSans-48\"/>\r\n     <use x=\"258.740234\" xlink:href=\"#DejaVuSans-48\"/>\r\n     <use x=\"322.363281\" xlink:href=\"#DejaVuSans-51\"/>\r\n     <use x=\"385.986328\" xlink:href=\"#DejaVuSans-50\"/>\r\n    </g>\r\n   </g>\r\n   <g id=\"text_33\">\r\n    <!-- -0.00071 -->\r\n    <defs>\r\n     <path d=\"M 8.203125 72.90625 \r\nL 55.078125 72.90625 \r\nL 55.078125 68.703125 \r\nL 28.609375 0 \r\nL 18.3125 0 \r\nL 43.21875 64.59375 \r\nL 8.203125 64.59375 \r\nz\r\n\" id=\"DejaVuSans-55\"/>\r\n    </defs>\r\n    <g style=\"fill:#ffffff;\" transform=\"translate(184.095469 421.458594)scale(0.1 -0.1)\">\r\n     <use xlink:href=\"#DejaVuSans-45\"/>\r\n     <use x=\"36.083984\" xlink:href=\"#DejaVuSans-48\"/>\r\n     <use x=\"99.707031\" xlink:href=\"#DejaVuSans-46\"/>\r\n     <use x=\"131.494141\" xlink:href=\"#DejaVuSans-48\"/>\r\n     <use x=\"195.117188\" xlink:href=\"#DejaVuSans-48\"/>\r\n     <use x=\"258.740234\" xlink:href=\"#DejaVuSans-48\"/>\r\n     <use x=\"322.363281\" xlink:href=\"#DejaVuSans-55\"/>\r\n     <use x=\"385.986328\" xlink:href=\"#DejaVuSans-49\"/>\r\n    </g>\r\n   </g>\r\n   <g id=\"text_34\">\r\n    <!-- -0.21 -->\r\n    <g style=\"fill:#ffffff;\" transform=\"translate(247.999219 421.458594)scale(0.1 -0.1)\">\r\n     <use xlink:href=\"#DejaVuSans-45\"/>\r\n     <use x=\"36.083984\" xlink:href=\"#DejaVuSans-48\"/>\r\n     <use x=\"99.707031\" xlink:href=\"#DejaVuSans-46\"/>\r\n     <use x=\"131.494141\" xlink:href=\"#DejaVuSans-50\"/>\r\n     <use x=\"195.117188\" xlink:href=\"#DejaVuSans-49\"/>\r\n    </g>\r\n   </g>\r\n   <g id=\"text_35\">\r\n    <!-- 0.071 -->\r\n    <g style=\"fill:#ffffff;\" transform=\"translate(300.981875 421.458594)scale(0.1 -0.1)\">\r\n     <use xlink:href=\"#DejaVuSans-48\"/>\r\n     <use x=\"63.623047\" xlink:href=\"#DejaVuSans-46\"/>\r\n     <use x=\"95.410156\" xlink:href=\"#DejaVuSans-48\"/>\r\n     <use x=\"159.033203\" xlink:href=\"#DejaVuSans-55\"/>\r\n     <use x=\"222.65625\" xlink:href=\"#DejaVuSans-49\"/>\r\n    </g>\r\n   </g>\r\n   <g id=\"text_36\">\r\n    <!-- 0.085 -->\r\n    <g style=\"fill:#ffffff;\" transform=\"translate(355.341875 421.458594)scale(0.1 -0.1)\">\r\n     <use xlink:href=\"#DejaVuSans-48\"/>\r\n     <use x=\"63.623047\" xlink:href=\"#DejaVuSans-46\"/>\r\n     <use x=\"95.410156\" xlink:href=\"#DejaVuSans-48\"/>\r\n     <use x=\"159.033203\" xlink:href=\"#DejaVuSans-56\"/>\r\n     <use x=\"222.65625\" xlink:href=\"#DejaVuSans-53\"/>\r\n    </g>\r\n   </g>\r\n   <g id=\"text_37\">\r\n    <!-- 0.067 -->\r\n    <g style=\"fill:#ffffff;\" transform=\"translate(409.701875 421.458594)scale(0.1 -0.1)\">\r\n     <use xlink:href=\"#DejaVuSans-48\"/>\r\n     <use x=\"63.623047\" xlink:href=\"#DejaVuSans-46\"/>\r\n     <use x=\"95.410156\" xlink:href=\"#DejaVuSans-48\"/>\r\n     <use x=\"159.033203\" xlink:href=\"#DejaVuSans-54\"/>\r\n     <use x=\"222.65625\" xlink:href=\"#DejaVuSans-55\"/>\r\n    </g>\r\n   </g>\r\n  </g>\r\n  <g id=\"axes_2\">\r\n   <g id=\"patch_3\">\r\n    <path clip-path=\"url(#p42f9339a4e)\" d=\"M 587.815938 445.879219 \r\nL 587.815938 444.180469 \r\nL 587.815938 12.697969 \r\nL 587.815938 10.999219 \r\nL 609.559938 10.999219 \r\nL 609.559938 12.697969 \r\nL 609.559938 444.180469 \r\nL 609.559938 445.879219 \r\nz\r\n\" style=\"fill:#ffffff;stroke:#ffffff;stroke-linejoin:miter;stroke-width:0.01;\"/>\r\n   </g>\r\n   <g id=\"matplotlib.axis_3\"/>\r\n   <g id=\"matplotlib.axis_4\">\r\n    <g id=\"ytick_9\">\r\n     <g id=\"line2d_1\">\r\n      <defs>\r\n       <path d=\"M 0 0 \r\nL 3.5 0 \r\n\" id=\"me66341b416\" style=\"stroke:#262626;stroke-width:0.8;\"/>\r\n      </defs>\r\n      <g>\r\n       <use style=\"fill:#262626;stroke:#262626;stroke-width:0.8;\" x=\"609.559938\" xlink:href=\"#me66341b416\" y=\"445.879219\"/>\r\n      </g>\r\n     </g>\r\n     <g id=\"text_38\">\r\n      <!-- 0.0 -->\r\n      <g style=\"fill:#262626;\" transform=\"translate(616.559938 449.678437)scale(0.1 -0.1)\">\r\n       <use xlink:href=\"#DejaVuSans-48\"/>\r\n       <use x=\"63.623047\" xlink:href=\"#DejaVuSans-46\"/>\r\n       <use x=\"95.410156\" xlink:href=\"#DejaVuSans-48\"/>\r\n      </g>\r\n     </g>\r\n    </g>\r\n    <g id=\"ytick_10\">\r\n     <g id=\"line2d_2\">\r\n      <g>\r\n       <use style=\"fill:#262626;stroke:#262626;stroke-width:0.8;\" x=\"609.559938\" xlink:href=\"#me66341b416\" y=\"358.903219\"/>\r\n      </g>\r\n     </g>\r\n     <g id=\"text_39\">\r\n      <!-- 0.2 -->\r\n      <g style=\"fill:#262626;\" transform=\"translate(616.559938 362.702437)scale(0.1 -0.1)\">\r\n       <use xlink:href=\"#DejaVuSans-48\"/>\r\n       <use x=\"63.623047\" xlink:href=\"#DejaVuSans-46\"/>\r\n       <use x=\"95.410156\" xlink:href=\"#DejaVuSans-50\"/>\r\n      </g>\r\n     </g>\r\n    </g>\r\n    <g id=\"ytick_11\">\r\n     <g id=\"line2d_3\">\r\n      <g>\r\n       <use style=\"fill:#262626;stroke:#262626;stroke-width:0.8;\" x=\"609.559938\" xlink:href=\"#me66341b416\" y=\"271.927219\"/>\r\n      </g>\r\n     </g>\r\n     <g id=\"text_40\">\r\n      <!-- 0.4 -->\r\n      <g style=\"fill:#262626;\" transform=\"translate(616.559938 275.726437)scale(0.1 -0.1)\">\r\n       <use xlink:href=\"#DejaVuSans-48\"/>\r\n       <use x=\"63.623047\" xlink:href=\"#DejaVuSans-46\"/>\r\n       <use x=\"95.410156\" xlink:href=\"#DejaVuSans-52\"/>\r\n      </g>\r\n     </g>\r\n    </g>\r\n    <g id=\"ytick_12\">\r\n     <g id=\"line2d_4\">\r\n      <g>\r\n       <use style=\"fill:#262626;stroke:#262626;stroke-width:0.8;\" x=\"609.559938\" xlink:href=\"#me66341b416\" y=\"184.951219\"/>\r\n      </g>\r\n     </g>\r\n     <g id=\"text_41\">\r\n      <!-- 0.6 -->\r\n      <g style=\"fill:#262626;\" transform=\"translate(616.559938 188.750438)scale(0.1 -0.1)\">\r\n       <use xlink:href=\"#DejaVuSans-48\"/>\r\n       <use x=\"63.623047\" xlink:href=\"#DejaVuSans-46\"/>\r\n       <use x=\"95.410156\" xlink:href=\"#DejaVuSans-54\"/>\r\n      </g>\r\n     </g>\r\n    </g>\r\n    <g id=\"ytick_13\">\r\n     <g id=\"line2d_5\">\r\n      <g>\r\n       <use style=\"fill:#262626;stroke:#262626;stroke-width:0.8;\" x=\"609.559938\" xlink:href=\"#me66341b416\" y=\"97.975219\"/>\r\n      </g>\r\n     </g>\r\n     <g id=\"text_42\">\r\n      <!-- 0.8 -->\r\n      <g style=\"fill:#262626;\" transform=\"translate(616.559938 101.774438)scale(0.1 -0.1)\">\r\n       <use xlink:href=\"#DejaVuSans-48\"/>\r\n       <use x=\"63.623047\" xlink:href=\"#DejaVuSans-46\"/>\r\n       <use x=\"95.410156\" xlink:href=\"#DejaVuSans-56\"/>\r\n      </g>\r\n     </g>\r\n    </g>\r\n    <g id=\"ytick_14\">\r\n     <g id=\"line2d_6\">\r\n      <g>\r\n       <use style=\"fill:#262626;stroke:#262626;stroke-width:0.8;\" x=\"609.559938\" xlink:href=\"#me66341b416\" y=\"10.999219\"/>\r\n      </g>\r\n     </g>\r\n     <g id=\"text_43\">\r\n      <!-- 1.0 -->\r\n      <g style=\"fill:#262626;\" transform=\"translate(616.559938 14.798438)scale(0.1 -0.1)\">\r\n       <use xlink:href=\"#DejaVuSans-49\"/>\r\n       <use x=\"63.623047\" xlink:href=\"#DejaVuSans-46\"/>\r\n       <use x=\"95.410156\" xlink:href=\"#DejaVuSans-48\"/>\r\n      </g>\r\n     </g>\r\n    </g>\r\n   </g>\r\n   <image height=\"435\" id=\"image8126a50285\" transform=\"scale(1 -1)translate(0 -435)\" width=\"22\" x=\"588\" xlink:href=\"data:image/png;base64,\r\niVBORw0KGgoAAAANSUhEUgAAABYAAAGzCAYAAAArEufSAAAABHNCSVQICAgIfAhkiAAAAjhJREFUeJztndtxwzAQA0mZaSL992l/iITUAD52ZreAmxsABOVHnPn5+/+OAms2po4xrtLcsebs7MzbeM2hFDe9jS/N29SkMG5hXaVUEKXAbVwr+lYqeFIUN26dPHN84NUmT2OkFJ3ZdkXgScF7rlCKYNyCcQvIq8lb+gb4UNi7pTVvw+sKonmlwbw7z64IdkUovmmKM681mRc34snDbcyLmx+wHIDmeUsfNO8ZzDPPJ/oD74B4SwdkV3TgPbDw2g0oBS9utlsGA29pzTuDNe+geUHzwroqf1Bg3F7wpOAdEM0LvK7QvODGwbgFonmtwdMHlg1vY+DTpl1xsOhD07yOFkDzeDkGxu3bcU/zAq8rkLc0rjZLg3kba17gHRDiA0up6ZHmdWh+TZgXN9rGvS9u8KTAbdzSeJW++ad5D5oXNC8UNS690CPGrSQF74Agc9wZDDSPmOPOYLsiWPQBaV5rsEW/4cUNKMUwbhvexkApWqOB5inFgRe3NUufV/CkaMZNjTOYJoXmvQbTpCCaV/oLFqB5uF+D4GlcjFtnaZ4UvHYDSjFwv+5u0R/WtCs2vANClMK4ZbC1ueG1G1AK4/YajJMC+HIMp7FdsUF2Rck84LtYmtcebNEHpMbG7Ya4ceufCQCl4G3sydt4SweexkQpeBtr3saueA1Wik3zs/9PZTBPY6B5HpBnMFAK3Mnzlt4A42bRP4Nx5nlAnsHW5oYXtzWVYmPcQu1II6Wgbdw60kApiHGDXaY/V6cvJd9e5w8AAAAASUVORK5CYII=\" y=\"-10\"/>\r\n   <g id=\"patch_4\">\r\n    <path d=\"M 587.815938 445.879219 \r\nL 587.815938 444.180469 \r\nL 587.815938 12.697969 \r\nL 587.815938 10.999219 \r\nL 609.559938 10.999219 \r\nL 609.559938 12.697969 \r\nL 609.559938 444.180469 \r\nL 609.559938 445.879219 \r\nz\r\n\" style=\"fill:none;\"/>\r\n   </g>\r\n  </g>\r\n </g>\r\n <defs>\r\n  <clipPath id=\"p24fbdb875f\">\r\n   <rect height=\"434.88\" width=\"434.88\" x=\"125.035938\" y=\"10.999219\"/>\r\n  </clipPath>\r\n  <clipPath id=\"p42f9339a4e\">\r\n   <rect height=\"434.88\" width=\"21.744\" x=\"587.815938\" y=\"10.999219\"/>\r\n  </clipPath>\r\n </defs>\r\n</svg>\r\n",
      "image/png": "[encoded data removed]"
     },
     "metadata": {}
    }
   ],
   "source": [
    "corr = features.corr()\n",
    "mask = np.zeros_like(corr)\n",
    "mask[np.triu_indices_from(mask)] = True\n",
    "with sns.axes_style(\"white\"):\n",
    "    f, ax = plt.subplots(figsize=(10,8))\n",
    "    ax = sns.heatmap(corr, mask=mask,vmin=0, vmax=1,annot=True,linewidths=.5, square=True)"
   ]
  },
  {
   "source": [
    "## We don't have any strong correlation between our features, so we can move on"
   ],
   "cell_type": "markdown",
   "metadata": {}
  },
  {
   "source": [
    "## Look for the first 2 columns\n",
    "\n",
    "The `Unnamed: 0` we can drop and let's go deep into `store_ID`"
   ],
   "cell_type": "markdown",
   "metadata": {}
  },
  {
   "cell_type": "code",
   "execution_count": 172,
   "metadata": {},
   "outputs": [],
   "source": [
    "features.drop(columns=['Unnamed: 0'],inplace=True)"
   ]
  },
  {
   "cell_type": "code",
   "execution_count": 151,
   "metadata": {},
   "outputs": [
    {
     "output_type": "execute_result",
     "data": {
      "text/plain": [
       "array([   1,    2,    3, ..., 1113, 1114, 1115], dtype=int64)"
      ]
     },
     "metadata": {},
     "execution_count": 151
    }
   ],
   "source": [
    "features['store_ID'].sort_values(ascending=True).unique()"
   ]
  },
  {
   "cell_type": "code",
   "execution_count": 152,
   "metadata": {},
   "outputs": [
    {
     "output_type": "execute_result",
     "data": {
      "text/plain": [
       "1115"
      ]
     },
     "metadata": {},
     "execution_count": 152
    }
   ],
   "source": [
    "len(features['store_ID'].unique())"
   ]
  },
  {
   "source": [
    "### we have 1115 different codes for stores, that means we collected information from 1115 stores. We have to create a dummies for this collumn but first bin the stores as Higher Sales, Medium Sales and Low Sales"
   ],
   "cell_type": "markdown",
   "metadata": {}
  },
  {
   "cell_type": "code",
   "execution_count": 173,
   "metadata": {},
   "outputs": [
    {
     "output_type": "display_data",
     "data": {
      "text/plain": "   store_ID  day_of_week  nb_customers_on_day  open  promotion  state_holiday  \\\n0       366            4                  517     1          0              1   \n1       394            6                  694     1          0              1   \n2       807            4                  970     1          1              1   \n3       802            2                  473     1          1              1   \n4       726            4                 1068     1          1              1   \n\n   school_holiday  Year  Month  Day  \n0               0  2013      4   18  \n1               0  2015      4   11  \n2               0  2013      8   29  \n3               0  2013      5   28  \n4               0  2013     10   10  ",
      "text/html": "<div>\n<style scoped>\n    .dataframe tbody tr th:only-of-type {\n        vertical-align: middle;\n    }\n\n    .dataframe tbody tr th {\n        vertical-align: top;\n    }\n\n    .dataframe thead th {\n        text-align: right;\n    }\n</style>\n<table border=\"1\" class=\"dataframe\">\n  <thead>\n    <tr style=\"text-align: right;\">\n      <th></th>\n      <th>store_ID</th>\n      <th>day_of_week</th>\n      <th>nb_customers_on_day</th>\n      <th>open</th>\n      <th>promotion</th>\n      <th>state_holiday</th>\n      <th>school_holiday</th>\n      <th>Year</th>\n      <th>Month</th>\n      <th>Day</th>\n    </tr>\n  </thead>\n  <tbody>\n    <tr>\n      <th>0</th>\n      <td>366</td>\n      <td>4</td>\n      <td>517</td>\n      <td>1</td>\n      <td>0</td>\n      <td>1</td>\n      <td>0</td>\n      <td>2013</td>\n      <td>4</td>\n      <td>18</td>\n    </tr>\n    <tr>\n      <th>1</th>\n      <td>394</td>\n      <td>6</td>\n      <td>694</td>\n      <td>1</td>\n      <td>0</td>\n      <td>1</td>\n      <td>0</td>\n      <td>2015</td>\n      <td>4</td>\n      <td>11</td>\n    </tr>\n    <tr>\n      <th>2</th>\n      <td>807</td>\n      <td>4</td>\n      <td>970</td>\n      <td>1</td>\n      <td>1</td>\n      <td>1</td>\n      <td>0</td>\n      <td>2013</td>\n      <td>8</td>\n      <td>29</td>\n    </tr>\n    <tr>\n      <th>3</th>\n      <td>802</td>\n      <td>2</td>\n      <td>473</td>\n      <td>1</td>\n      <td>1</td>\n      <td>1</td>\n      <td>0</td>\n      <td>2013</td>\n      <td>5</td>\n      <td>28</td>\n    </tr>\n    <tr>\n      <th>4</th>\n      <td>726</td>\n      <td>4</td>\n      <td>1068</td>\n      <td>1</td>\n      <td>1</td>\n      <td>1</td>\n      <td>0</td>\n      <td>2013</td>\n      <td>10</td>\n      <td>10</td>\n    </tr>\n  </tbody>\n</table>\n</div>"
     },
     "metadata": {}
    },
    {
     "output_type": "display_data",
     "data": {
      "text/plain": "     sales\n0   4422.0\n1   8297.0\n2   9729.0\n3   6513.0\n4  10882.0",
      "text/html": "<div>\n<style scoped>\n    .dataframe tbody tr th:only-of-type {\n        vertical-align: middle;\n    }\n\n    .dataframe tbody tr th {\n        vertical-align: top;\n    }\n\n    .dataframe thead th {\n        text-align: right;\n    }\n</style>\n<table border=\"1\" class=\"dataframe\">\n  <thead>\n    <tr style=\"text-align: right;\">\n      <th></th>\n      <th>sales</th>\n    </tr>\n  </thead>\n  <tbody>\n    <tr>\n      <th>0</th>\n      <td>4422.0</td>\n    </tr>\n    <tr>\n      <th>1</th>\n      <td>8297.0</td>\n    </tr>\n    <tr>\n      <th>2</th>\n      <td>9729.0</td>\n    </tr>\n    <tr>\n      <th>3</th>\n      <td>6513.0</td>\n    </tr>\n    <tr>\n      <th>4</th>\n      <td>10882.0</td>\n    </tr>\n  </tbody>\n</table>\n</div>"
     },
     "metadata": {}
    }
   ],
   "source": [
    "display(features.head())\n",
    "display(labels.head())"
   ]
  },
  {
   "cell_type": "code",
   "execution_count": 174,
   "metadata": {},
   "outputs": [
    {
     "output_type": "execute_result",
     "data": {
      "text/plain": [
       "store_ID               int64\n",
       "day_of_week            int64\n",
       "nb_customers_on_day    int64\n",
       "open                   int64\n",
       "promotion              int64\n",
       "state_holiday          int64\n",
       "school_holiday         int64\n",
       "Year                   int32\n",
       "Month                  int32\n",
       "Day                    int32\n",
       "dtype: object"
      ]
     },
     "metadata": {},
     "execution_count": 174
    }
   ],
   "source": [
    "features.dtypes"
   ]
  },
  {
   "source": [
    "## KNN model"
   ],
   "cell_type": "markdown",
   "metadata": {}
  },
  {
   "source": [
    "### This model doesn't accept date columns"
   ],
   "cell_type": "markdown",
   "metadata": {}
  },
  {
   "cell_type": "code",
   "execution_count": 119,
   "metadata": {},
   "outputs": [],
   "source": [
    "from sklearn.model_selection import train_test_split\n",
    "X_train, X_test, y_train, y_test = train_test_split(features_wo_date,labels, test_size=0.25, random_state=1)"
   ]
  },
  {
   "cell_type": "code",
   "execution_count": 120,
   "metadata": {},
   "outputs": [
    {
     "output_type": "execute_result",
     "data": {
      "text/plain": [
       "0.9047056124505877"
      ]
     },
     "metadata": {},
     "execution_count": 120
    }
   ],
   "source": [
    "from sklearn.neighbors import KNeighborsRegressor\n",
    "\n",
    "# create knn model\n",
    "knnr = KNeighborsRegressor(n_neighbors = 5)\n",
    "\n",
    "# Train the knn model\n",
    "model = knnr.fit(X_train, y_train)\n",
    "\n",
    "# Predict and score the model\n",
    "y_pred = knnr.predict(X_test)\n",
    "knnr.score(X_test, y_test)"
   ]
  },
  {
   "cell_type": "code",
   "execution_count": 121,
   "metadata": {},
   "outputs": [
    {
     "output_type": "stream",
     "name": "stdout",
     "text": [
      "{'fit_time': array([3.1904726 , 3.08275962, 3.07481384, 3.12863183]), 'score_time': array([1.61072159, 1.45408177, 1.41717458, 1.71843982]), 'test_score': array([0.89790412, 0.89705911, 0.89701559, 0.8971517 ])}\n"
     ]
    }
   ],
   "source": [
    "# cross validation\n",
    "\n",
    "from sklearn.model_selection import cross_validate\n",
    "\n",
    "print(cross_validate(model,X_train, y_train, cv=4)) # checking for overfitting"
   ]
  },
  {
   "cell_type": "code",
   "execution_count": 32,
   "metadata": {},
   "outputs": [
    {
     "output_type": "stream",
     "name": "stdout",
     "text": [
      "test data accuracy was  0.9047056124505877\n",
      "train data accuracy was  0.9394977702524527\n",
      "R-squared 0.9047056124505877\n"
     ]
    }
   ],
   "source": [
    "from sklearn import metrics\n",
    "from sklearn.metrics import r2_score\n",
    "\n",
    "print(\"test data accuracy was \",model.score(X_test,y_test))\n",
    "print(\"train data accuracy was \", model.score(X_train, y_train))\n",
    "print('R-squared',r2_score(y_test, y_pred))"
   ]
  },
  {
   "source": [
    "## Decision tree regression"
   ],
   "cell_type": "markdown",
   "metadata": {}
  },
  {
   "cell_type": "code",
   "execution_count": 175,
   "metadata": {},
   "outputs": [],
   "source": [
    "from sklearn.model_selection import train_test_split\n",
    "X_train, X_test, y_train, y_test = train_test_split(features,labels, test_size=0.25, random_state=1)"
   ]
  },
  {
   "cell_type": "code",
   "execution_count": 176,
   "metadata": {},
   "outputs": [
    {
     "output_type": "execute_result",
     "data": {
      "text/plain": [
       "0.8985528114336293"
      ]
     },
     "metadata": {},
     "execution_count": 176
    }
   ],
   "source": [
    "from sklearn.tree import DecisionTreeRegressor\n",
    "regr = DecisionTreeRegressor()\n",
    "\n",
    "model = regr.fit(X_train, y_train)\n",
    "regr.score(X_test, y_test)"
   ]
  },
  {
   "cell_type": "code",
   "execution_count": 177,
   "metadata": {},
   "outputs": [
    {
     "output_type": "execute_result",
     "data": {
      "text/plain": [
       "0.8985528114336293"
      ]
     },
     "metadata": {},
     "execution_count": 177
    }
   ],
   "source": [
    "# Predict and score the model\n",
    "y_pred = model.predict(X_test)\n",
    "model.score(X_test, y_test)"
   ]
  },
  {
   "cell_type": "code",
   "execution_count": 178,
   "metadata": {},
   "outputs": [
    {
     "output_type": "stream",
     "name": "stdout",
     "text": [
      "{'fit_time': array([2.68880725, 2.47238755, 2.50731826, 2.45643091, 2.53219104]), 'score_time': array([0.06685734, 0.0628376 , 0.06384134, 0.06283998, 0.06086922]), 'test_score': array([0.88629781, 0.88936031, 0.88941231, 0.8866051 , 0.88486577])}\n"
     ]
    }
   ],
   "source": [
    "# cross validation\n",
    "\n",
    "from sklearn.model_selection import cross_validate\n",
    "\n",
    "print(cross_validate(model,X_train, y_train, cv=5)) # checking for overfitting"
   ]
  },
  {
   "cell_type": "code",
   "execution_count": 179,
   "metadata": {},
   "outputs": [
    {
     "output_type": "stream",
     "name": "stdout",
     "text": [
      "test data accuracy was  0.8985528114336293\n",
      "train data accuracy was  1.0\n",
      "R-squared 0.8985528114336293\n"
     ]
    }
   ],
   "source": [
    "from sklearn import metrics\n",
    "from sklearn.metrics import r2_score\n",
    "\n",
    "print(\"test data accuracy was \",model.score(X_test,y_test))\n",
    "print(\"train data accuracy was \", model.score(X_train, y_train))\n",
    "print('R-squared',r2_score(y_test, y_pred))"
   ]
  },
  {
   "cell_type": "code",
   "execution_count": 180,
   "metadata": {},
   "outputs": [
    {
     "output_type": "execute_result",
     "data": {
      "text/plain": [
       "0.9619810378315167"
      ]
     },
     "metadata": {},
     "execution_count": 180
    }
   ],
   "source": [
    "import xgboost\n",
    "\n",
    "xgb_reg = xgboost.XGBRegressor()\n",
    "xgb_reg.fit(X_train, y_train)\n",
    "xgb_reg.score(X_test,y_test)"
   ]
  },
  {
   "cell_type": "code",
   "execution_count": 181,
   "metadata": {},
   "outputs": [
    {
     "output_type": "execute_result",
     "data": {
      "text/plain": [
       "0.9619810378315167"
      ]
     },
     "metadata": {},
     "execution_count": 181
    }
   ],
   "source": [
    "# Predict and score the model\n",
    "y_pred = xgb_reg.predict(X_test)\n",
    "xgb_reg.score(X_test, y_test)"
   ]
  },
  {
   "cell_type": "code",
   "execution_count": 182,
   "metadata": {},
   "outputs": [
    {
     "output_type": "stream",
     "name": "stdout",
     "text": [
      "{'fit_time': array([ 9.20837092,  9.33749247,  9.29912853,  9.28815794, 11.13438225]), 'score_time': array([0.13763309, 0.16755414, 0.15558457, 0.13165021, 0.16554594]), 'test_score': array([0.96152377, 0.96112798, 0.96114808, 0.96111433, 0.96281324])}\n"
     ]
    }
   ],
   "source": [
    "# cross validation\n",
    "\n",
    "from sklearn.model_selection import cross_validate\n",
    "\n",
    "print(cross_validate(xgb_reg,X_train, y_train, cv=5)) # checking for overfitting"
   ]
  },
  {
   "cell_type": "code",
   "execution_count": 130,
   "metadata": {},
   "outputs": [
    {
     "output_type": "stream",
     "name": "stdout",
     "text": [
      "test data accuracy was  0.9582977700458698\n",
      "train data accuracy was  0.9594572806038043\n",
      "R-squared 0.9582977700458698\n"
     ]
    }
   ],
   "source": [
    "from sklearn import metrics\n",
    "from sklearn.metrics import r2_score\n",
    "\n",
    "print(\"test data accuracy was \",xgb_reg.score(X_test,y_test))\n",
    "print(\"train data accuracy was \", xgb_reg.score(X_train, y_train))\n",
    "print('R-squared',r2_score(y_test, y_pred))"
   ]
  },
  {
   "cell_type": "code",
   "execution_count": 183,
   "metadata": {},
   "outputs": [],
   "source": [
    "final_model = xgb_reg\n",
    "pickle.dump(final_model, open('model.pkl','wb'))\n",
    "X_test.to_pickle('xtest.p')\n",
    "y_test.to_pickle('ytest.p')"
   ]
  },
  {
   "cell_type": "code",
   "execution_count": null,
   "metadata": {},
   "outputs": [],
   "source": []
  }
 ]
}