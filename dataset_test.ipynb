{
 "metadata": {
  "language_info": {
   "codemirror_mode": {
    "name": "ipython",
    "version": 3
   },
   "file_extension": ".py",
   "mimetype": "text/x-python",
   "name": "python",
   "nbconvert_exporter": "python",
   "pygments_lexer": "ipython3",
   "version": "3.8.3-final"
  },
  "orig_nbformat": 2,
  "kernelspec": {
   "name": "python3",
   "display_name": "Python 3"
  }
 },
 "nbformat": 4,
 "nbformat_minor": 2,
 "cells": [
  {
   "cell_type": "code",
   "execution_count": 12,
   "metadata": {},
   "outputs": [],
   "source": [
    "import numpy as np\n",
    "import pandas as pd\n",
    "import re\n",
    "import seaborn as sns\n",
    "import matplotlib.pyplot as plt\n",
    "import scipy.stats as st\n",
    "import pickle"
   ]
  },
  {
   "cell_type": "code",
   "execution_count": 80,
   "metadata": {},
   "outputs": [],
   "source": [
    "# read the test dataset here\n",
    "features = pd.read_csv('validation_for students.csv')"
   ]
  },
  {
   "cell_type": "code",
   "execution_count": 81,
   "metadata": {},
   "outputs": [
    {
     "output_type": "execute_result",
     "data": {
      "text/plain": [
       "    index  store_ID  day_of_week        date  nb_customers_on_day  open  \\\n",
       "0  272371       415            7  01/03/2015                    0     0   \n",
       "1  558468        27            7  29/12/2013                    0     0   \n",
       "2   76950       404            3  19/03/2014                  657     1   \n",
       "3   77556       683            2  29/01/2013                  862     1   \n",
       "4  456344       920            3  19/03/2014                  591     1   \n",
       "\n",
       "   promotion state_holiday  school_holiday  \n",
       "0          0             0               0  \n",
       "1          0             0               0  \n",
       "2          1             0               0  \n",
       "3          0             0               0  \n",
       "4          1             0               0  "
      ],
      "text/html": "<div>\n<style scoped>\n    .dataframe tbody tr th:only-of-type {\n        vertical-align: middle;\n    }\n\n    .dataframe tbody tr th {\n        vertical-align: top;\n    }\n\n    .dataframe thead th {\n        text-align: right;\n    }\n</style>\n<table border=\"1\" class=\"dataframe\">\n  <thead>\n    <tr style=\"text-align: right;\">\n      <th></th>\n      <th>index</th>\n      <th>store_ID</th>\n      <th>day_of_week</th>\n      <th>date</th>\n      <th>nb_customers_on_day</th>\n      <th>open</th>\n      <th>promotion</th>\n      <th>state_holiday</th>\n      <th>school_holiday</th>\n    </tr>\n  </thead>\n  <tbody>\n    <tr>\n      <th>0</th>\n      <td>272371</td>\n      <td>415</td>\n      <td>7</td>\n      <td>01/03/2015</td>\n      <td>0</td>\n      <td>0</td>\n      <td>0</td>\n      <td>0</td>\n      <td>0</td>\n    </tr>\n    <tr>\n      <th>1</th>\n      <td>558468</td>\n      <td>27</td>\n      <td>7</td>\n      <td>29/12/2013</td>\n      <td>0</td>\n      <td>0</td>\n      <td>0</td>\n      <td>0</td>\n      <td>0</td>\n    </tr>\n    <tr>\n      <th>2</th>\n      <td>76950</td>\n      <td>404</td>\n      <td>3</td>\n      <td>19/03/2014</td>\n      <td>657</td>\n      <td>1</td>\n      <td>1</td>\n      <td>0</td>\n      <td>0</td>\n    </tr>\n    <tr>\n      <th>3</th>\n      <td>77556</td>\n      <td>683</td>\n      <td>2</td>\n      <td>29/01/2013</td>\n      <td>862</td>\n      <td>1</td>\n      <td>0</td>\n      <td>0</td>\n      <td>0</td>\n    </tr>\n    <tr>\n      <th>4</th>\n      <td>456344</td>\n      <td>920</td>\n      <td>3</td>\n      <td>19/03/2014</td>\n      <td>591</td>\n      <td>1</td>\n      <td>1</td>\n      <td>0</td>\n      <td>0</td>\n    </tr>\n  </tbody>\n</table>\n</div>"
     },
     "metadata": {},
     "execution_count": 81
    }
   ],
   "source": [
    "#features.set_index('index',inplace=True)\n",
    "features.head()"
   ]
  },
  {
   "source": [
    "## Features transform"
   ],
   "cell_type": "markdown",
   "metadata": {}
  },
  {
   "cell_type": "code",
   "execution_count": 82,
   "metadata": {},
   "outputs": [],
   "source": [
    "x_ID_Store = features[['index']]#.reset_index()\n",
    "features.drop(columns=['index'],inplace=True)"
   ]
  },
  {
   "cell_type": "code",
   "execution_count": 83,
   "metadata": {},
   "outputs": [
    {
     "output_type": "execute_result",
     "data": {
      "text/plain": [
       "        index\n",
       "0      272371\n",
       "1      558468\n",
       "2       76950\n",
       "3       77556\n",
       "4      456344\n",
       "...       ...\n",
       "71200   59062\n",
       "71201  687449\n",
       "71202  207393\n",
       "71203  233378\n",
       "71204   85695\n",
       "\n",
       "[71205 rows x 1 columns]"
      ],
      "text/html": "<div>\n<style scoped>\n    .dataframe tbody tr th:only-of-type {\n        vertical-align: middle;\n    }\n\n    .dataframe tbody tr th {\n        vertical-align: top;\n    }\n\n    .dataframe thead th {\n        text-align: right;\n    }\n</style>\n<table border=\"1\" class=\"dataframe\">\n  <thead>\n    <tr style=\"text-align: right;\">\n      <th></th>\n      <th>index</th>\n    </tr>\n  </thead>\n  <tbody>\n    <tr>\n      <th>0</th>\n      <td>272371</td>\n    </tr>\n    <tr>\n      <th>1</th>\n      <td>558468</td>\n    </tr>\n    <tr>\n      <th>2</th>\n      <td>76950</td>\n    </tr>\n    <tr>\n      <th>3</th>\n      <td>77556</td>\n    </tr>\n    <tr>\n      <th>4</th>\n      <td>456344</td>\n    </tr>\n    <tr>\n      <th>...</th>\n      <td>...</td>\n    </tr>\n    <tr>\n      <th>71200</th>\n      <td>59062</td>\n    </tr>\n    <tr>\n      <th>71201</th>\n      <td>687449</td>\n    </tr>\n    <tr>\n      <th>71202</th>\n      <td>207393</td>\n    </tr>\n    <tr>\n      <th>71203</th>\n      <td>233378</td>\n    </tr>\n    <tr>\n      <th>71204</th>\n      <td>85695</td>\n    </tr>\n  </tbody>\n</table>\n<p>71205 rows × 1 columns</p>\n</div>"
     },
     "metadata": {},
     "execution_count": 83
    }
   ],
   "source": [
    "x_ID_Store"
   ]
  },
  {
   "cell_type": "code",
   "execution_count": 84,
   "metadata": {},
   "outputs": [],
   "source": [
    "features['state_holiday'] = features['state_holiday'].apply(lambda x: 0 if x==0 else 1)"
   ]
  },
  {
   "cell_type": "code",
   "execution_count": 85,
   "metadata": {},
   "outputs": [],
   "source": [
    "date = ['Year','Month','Day']\n",
    "for days in date:\n",
    "    dd = features['date'].apply(lambda x: list(x.split('/')))\n",
    "    index = date.index(str(days))\n",
    "    features[str(days)] = dd.apply(lambda x: x[index])\n",
    "    features[str(days)] = features[str(days)].astype('int')\n",
    "\n",
    "features.drop(columns=['date'],inplace=True)"
   ]
  },
  {
   "cell_type": "code",
   "execution_count": 87,
   "metadata": {},
   "outputs": [],
   "source": [
    "model = pickle.load(open('model.pkl', 'rb')) # decision tree regression\n",
    "X_test = features\n",
    "y_pred = model.predict(X_test)"
   ]
  },
  {
   "cell_type": "code",
   "execution_count": 90,
   "metadata": {},
   "outputs": [],
   "source": [
    "Y = pd.DataFrame(y_pred,columns=['y_pred'])\n",
    "Y = x_ID_Store.join(Y)"
   ]
  },
  {
   "cell_type": "code",
   "execution_count": 91,
   "metadata": {},
   "outputs": [],
   "source": [
    "Y.to_csv('y_prediction.csv')"
   ]
  },
  {
   "cell_type": "code",
   "execution_count": 92,
   "metadata": {},
   "outputs": [
    {
     "output_type": "stream",
     "name": "stdout",
     "text": [
      "{'fit_time': array([1.07349586, 1.01328945, 1.02824283, 1.30949759, 1.42419052]), 'score_time': array([0.01994634, 0.01994705, 0.02792549, 0.02493358, 0.02393699]), 'test_score': array([0.99293039, 0.99259337, 0.99338107, 0.99326722, 0.99300748])}\n"
     ]
    }
   ],
   "source": [
    "# cross validation\n",
    "\n",
    "from sklearn.model_selection import cross_validate\n",
    "\n",
    "print(cross_validate(model,X_test, y_pred, cv=5)) # checking for overfitting"
   ]
  },
  {
   "cell_type": "code",
   "execution_count": null,
   "metadata": {},
   "outputs": [],
   "source": []
  }
 ]
}